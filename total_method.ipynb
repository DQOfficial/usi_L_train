{
 "cells": [
  {
   "cell_type": "code",
   "execution_count": 319,
   "metadata": {
    "collapsed": false
   },
   "outputs": [
    {
     "name": "stdout",
     "output_type": "stream",
     "text": [
      "Populating the interactive namespace from numpy and matplotlib\n"
     ]
    }
   ],
   "source": [
    "import numpy as np\n",
    "import pandas as pd\n",
    "import matplotlib.pyplot as plt\n",
    "import geopandas as gp\n",
    "from pandas import DataFrame\n",
    "import math\n",
    "import seaborn as sns\n",
    "%pylab inline"
   ]
  },
  {
   "cell_type": "markdown",
   "metadata": {},
   "source": [
    "#PART 1\n",
    "## Get a picture of today values in our study area"
   ]
  },
  {
   "cell_type": "markdown",
   "metadata": {},
   "source": [
    "## Ridership and foot traffic analysis:"
   ]
  },
  {
   "cell_type": "code",
   "execution_count": 320,
   "metadata": {
    "collapsed": true
   },
   "outputs": [],
   "source": [
    "# pull in files from turnstile notebook\n",
    "metropolitan = pd.read_csv('station_metropolitan.csv')\n",
    "lorimer = pd.read_csv('station_lorimer.csv')\n",
    "nassau = pd.read_csv('station_nassau.csv')\n",
    "bedford = pd.read_csv('station_bedford.csv')\n",
    "graham = pd.read_csv('station_graham.csv')"
   ]
  },
  {
   "cell_type": "code",
   "execution_count": 321,
   "metadata": {
    "collapsed": true
   },
   "outputs": [],
   "source": [
    "Dictionary_stations={'metropolitan':metropolitan, 'lorimer':lorimer,'nassau':nassau,'bedford':bedford,'graham':graham}"
   ]
  },
  {
   "cell_type": "code",
   "execution_count": 322,
   "metadata": {
    "collapsed": false
   },
   "outputs": [
    {
     "name": "stdout",
     "output_type": "stream",
     "text": [
      "('OUTLIERS:', Index([u'R35300-06-00'], dtype='object', name=u'turnstile'), '02/12/2016', 'lorimer')\n",
      "('OUTLIERS:', Index([u'R35300-00-01'], dtype='object', name=u'turnstile'), '02/25/2016', 'lorimer')\n",
      "('OUTLIERS:', Index([u'R23500-06-01'], dtype='object', name=u'turnstile'), '02/16/2016', 'bedford')\n"
     ]
    }
   ],
   "source": [
    "av_daily_exits=pd.DataFrame(index=Dictionary_stations.keys(),columns=['count_daily_exits'])\n",
    "for st in Dictionary_stations:\n",
    "    station=Dictionary_stations[st]\n",
    "    station.rename(columns = {'Unnamed: 0':'turnstile'}, inplace = True) \n",
    "    station.set_index('turnstile',inplace = True)\n",
    "    for date in station.columns:\n",
    "        values=station[date]\n",
    "        z_test=abs((values-mean(values)))<2.5*std(values)\n",
    "        outliers_indexes=z_test.index[z_test==False]\n",
    "        if len(outliers_indexes!=0):\n",
    "            print('OUTLIERS:',outliers_indexes,date,st)\n",
    "            # replace the anomaly value with the median of that day\n",
    "            station.replace(station.loc[outliers_indexes,date][0], np.median(station[date]), inplace = True)\n",
    "    totals_list = [station[i].sum() for i in station.columns]\n",
    "    av_daily_exits.count_daily_exits[st]=int(np.mean(totals_list))\n",
    "    \n",
    "    "
   ]
  },
  {
   "cell_type": "code",
   "execution_count": 323,
   "metadata": {
    "collapsed": false
   },
   "outputs": [
    {
     "data": {
      "text/html": [
       "<div>\n",
       "<table border=\"1\" class=\"dataframe\">\n",
       "  <thead>\n",
       "    <tr style=\"text-align: right;\">\n",
       "      <th></th>\n",
       "      <th>count_daily_exits</th>\n",
       "      <th>percent_daily_exits</th>\n",
       "    </tr>\n",
       "  </thead>\n",
       "  <tbody>\n",
       "    <tr>\n",
       "      <th>nassau</th>\n",
       "      <td>3807</td>\n",
       "      <td>9.085268</td>\n",
       "    </tr>\n",
       "    <tr>\n",
       "      <th>lorimer</th>\n",
       "      <td>2553</td>\n",
       "      <td>6.092643</td>\n",
       "    </tr>\n",
       "    <tr>\n",
       "      <th>graham</th>\n",
       "      <td>5660</td>\n",
       "      <td>13.50739</td>\n",
       "    </tr>\n",
       "    <tr>\n",
       "      <th>metropolitan</th>\n",
       "      <td>3939</td>\n",
       "      <td>9.400282</td>\n",
       "    </tr>\n",
       "    <tr>\n",
       "      <th>bedford</th>\n",
       "      <td>25944</td>\n",
       "      <td>61.91442</td>\n",
       "    </tr>\n",
       "  </tbody>\n",
       "</table>\n",
       "</div>"
      ],
      "text/plain": [
       "             count_daily_exits percent_daily_exits\n",
       "nassau                    3807            9.085268\n",
       "lorimer                   2553            6.092643\n",
       "graham                    5660            13.50739\n",
       "metropolitan              3939            9.400282\n",
       "bedford                  25944            61.91442"
      ]
     },
     "execution_count": 323,
     "metadata": {},
     "output_type": "execute_result"
    }
   ],
   "source": [
    "av_daily_exits['percent_daily_exits']=(av_daily_exits.count_daily_exits/np.sum(av_daily_exits.count_daily_exits))*100\n",
    "av_daily_exits"
   ]
  },
  {
   "cell_type": "markdown",
   "metadata": {},
   "source": [
    "Now, we are going to estimate the foot traffic in the area around Bedford Avenue. For that estimate, we consider a portion of the exits (expansion weight) on the other stations and the total of people comming out from Bedford.\n",
    "\n",
    "We chose the negative exponencial function to model this expansion: this function has the value of 1 when the distance is 0 (that means, the weight is 1 in Bedford av) and the value vanishes quickly as the distance increases. "
   ]
  },
  {
   "cell_type": "code",
   "execution_count": 324,
   "metadata": {
    "collapsed": true
   },
   "outputs": [],
   "source": [
    "###GRAFIC OF THIS FUNCTION!!"
   ]
  },
  {
   "cell_type": "code",
   "execution_count": 325,
   "metadata": {
    "collapsed": false
   },
   "outputs": [
    {
     "data": {
      "text/html": [
       "<div>\n",
       "<table border=\"1\" class=\"dataframe\">\n",
       "  <thead>\n",
       "    <tr style=\"text-align: right;\">\n",
       "      <th></th>\n",
       "      <th>count_daily_exits</th>\n",
       "      <th>percent_daily_exits</th>\n",
       "      <th>distance_to_bedford</th>\n",
       "      <th>expansion_proportion</th>\n",
       "    </tr>\n",
       "  </thead>\n",
       "  <tbody>\n",
       "    <tr>\n",
       "      <th>nassau</th>\n",
       "      <td>3807</td>\n",
       "      <td>9.085268</td>\n",
       "      <td>3062.4</td>\n",
       "      <td>0.129821</td>\n",
       "    </tr>\n",
       "    <tr>\n",
       "      <th>lorimer</th>\n",
       "      <td>2553</td>\n",
       "      <td>6.092643</td>\n",
       "      <td>2217.6</td>\n",
       "      <td>0.228002</td>\n",
       "    </tr>\n",
       "    <tr>\n",
       "      <th>graham</th>\n",
       "      <td>5660</td>\n",
       "      <td>13.50739</td>\n",
       "      <td>3696.0</td>\n",
       "      <td>0.085094</td>\n",
       "    </tr>\n",
       "    <tr>\n",
       "      <th>metropolitan</th>\n",
       "      <td>3939</td>\n",
       "      <td>9.400282</td>\n",
       "      <td>2164.8</td>\n",
       "      <td>0.236171</td>\n",
       "    </tr>\n",
       "    <tr>\n",
       "      <th>bedford</th>\n",
       "      <td>25944</td>\n",
       "      <td>61.91442</td>\n",
       "      <td>0.0</td>\n",
       "      <td>1.000000</td>\n",
       "    </tr>\n",
       "  </tbody>\n",
       "</table>\n",
       "</div>"
      ],
      "text/plain": [
       "             count_daily_exits percent_daily_exits  distance_to_bedford  \\\n",
       "nassau                    3807            9.085268               3062.4   \n",
       "lorimer                   2553            6.092643               2217.6   \n",
       "graham                    5660            13.50739               3696.0   \n",
       "metropolitan              3939            9.400282               2164.8   \n",
       "bedford                  25944            61.91442                  0.0   \n",
       "\n",
       "              expansion_proportion  \n",
       "nassau                    0.129821  \n",
       "lorimer                   0.228002  \n",
       "graham                    0.085094  \n",
       "metropolitan              0.236171  \n",
       "bedford                   1.000000  "
      ]
     },
     "execution_count": 325,
     "metadata": {},
     "output_type": "execute_result"
    }
   ],
   "source": [
    "distances_dic={'lorimer': 0.42*5280,\n",
    "'graham':0.7*5280,\n",
    "'metropolitan': 0.41*5280 ,\n",
    "'nassau': 0.58*5280,\n",
    "'bedford':0              }\n",
    "distances=pd.DataFrame.from_dict(distances_dic,orient='index')\n",
    "distances.rename(columns={0:'distance_to_bedford'},inplace= True)\n",
    "expansion_coef=1500\n",
    "distances['expansion_proportion']=np.exp(-distances.distance_to_bedford/expansion_coef)\n",
    "foot_traffic=av_daily_exits.join(distances)\n",
    "foot_traffic"
   ]
  },
  {
   "cell_type": "code",
   "execution_count": 326,
   "metadata": {
    "collapsed": false
   },
   "outputs": [],
   "source": [
    "##GRAPHIC WITH DIFFERENT EXPANSION COEFFICIENTS"
   ]
  },
  {
   "cell_type": "markdown",
   "metadata": {},
   "source": [
    "Then, the foot traffic is estimated as follows:"
   ]
  },
  {
   "cell_type": "code",
   "execution_count": 327,
   "metadata": {
    "collapsed": true
   },
   "outputs": [],
   "source": [
    "R_1=sum(foot_traffic.expansion_proportion*foot_traffic.count_daily_exits)"
   ]
  },
  {
   "cell_type": "code",
   "execution_count": 328,
   "metadata": {
    "collapsed": false
   },
   "outputs": [
    {
     "name": "stdout",
     "output_type": "stream",
     "text": [
      "CONCLUSION: The total daily ridership today in the area around Bedford Av. station is equal to R=28432\n"
     ]
    }
   ],
   "source": [
    "print('CONCLUSION: The total daily ridership today in the area around Bedford Av. station is equal to R=%d')%R_1"
   ]
  },
  {
   "cell_type": "markdown",
   "metadata": {},
   "source": [
    "##Expenditure in Williamsburgh\n",
    "\n",
    "- Total households in three Williamsburg zip codes (11206, 11211, and 11237)\n",
    "- Average household expenture in Williamsburg\n",
    "- Spend by category (listed below) that could contribute to GDP (categorical breakouts only available for all of NYC)"
   ]
  },
  {
   "cell_type": "code",
   "execution_count": 329,
   "metadata": {
    "collapsed": true
   },
   "outputs": [],
   "source": [
    "# households and average household anual expenditures for williamsburg zipcodes\n",
    "# taken from http://www.point2homes.com/US/Neighborhood/NY/Brooklyn/Williamsburg-Demographics.html\n",
    "households = 68787\n",
    "total_expend = 40514"
   ]
  },
  {
   "cell_type": "code",
   "execution_count": 330,
   "metadata": {
    "collapsed": false
   },
   "outputs": [
    {
     "name": "stdout",
     "output_type": "stream",
     "text": [
      "Estimated Total Household Expenditures in Williamsburg is: $ 2786836518\n"
     ]
    }
   ],
   "source": [
    "# estimate regional expenditure ammount \n",
    "Exp_wil = households * total_expend\n",
    "print 'Estimated Total Household Expenditures in Williamsburg is: $',Exp_wil"
   ]
  },
  {
   "cell_type": "markdown",
   "metadata": {},
   "source": [
    "However, we are interested in expenditures that might be associated with commercial activity in the area (for example: education is not associated with commercial activity). \n",
    "We are concidering expenditures in the areas of: \n",
    " health = .056\n",
    " \n",
    " entertain = .042 \n",
    " \n",
    " apparel = .039 \n",
    " \n",
    " dining = .132 \n",
    " \n",
    " other = .058"
   ]
  },
  {
   "cell_type": "code",
   "execution_count": 331,
   "metadata": {
    "collapsed": false
   },
   "outputs": [
    {
     "data": {
      "text/html": [
       "<div>\n",
       "<table border=\"1\" class=\"dataframe\">\n",
       "  <thead>\n",
       "    <tr style=\"text-align: right;\">\n",
       "      <th></th>\n",
       "      <th>Spend $</th>\n",
       "      <th>Spend %</th>\n",
       "    </tr>\n",
       "  </thead>\n",
       "  <tbody>\n",
       "    <tr>\n",
       "      <th>healthcare</th>\n",
       "      <td>1.560628e+08</td>\n",
       "      <td>17.125382</td>\n",
       "    </tr>\n",
       "    <tr>\n",
       "      <th>entertainment</th>\n",
       "      <td>1.170471e+08</td>\n",
       "      <td>12.844037</td>\n",
       "    </tr>\n",
       "    <tr>\n",
       "      <th>apparel</th>\n",
       "      <td>1.086866e+08</td>\n",
       "      <td>11.926606</td>\n",
       "    </tr>\n",
       "    <tr>\n",
       "      <th>dining</th>\n",
       "      <td>3.678624e+08</td>\n",
       "      <td>40.366972</td>\n",
       "    </tr>\n",
       "    <tr>\n",
       "      <th>other</th>\n",
       "      <td>1.616365e+08</td>\n",
       "      <td>17.737003</td>\n",
       "    </tr>\n",
       "  </tbody>\n",
       "</table>\n",
       "</div>"
      ],
      "text/plain": [
       "                    Spend $    Spend %\n",
       "healthcare     1.560628e+08  17.125382\n",
       "entertainment  1.170471e+08  12.844037\n",
       "apparel        1.086866e+08  11.926606\n",
       "dining         3.678624e+08  40.366972\n",
       "other          1.616365e+08  17.737003"
      ]
     },
     "execution_count": 331,
     "metadata": {},
     "output_type": "execute_result"
    }
   ],
   "source": [
    "# health = .056\n",
    "# entertain = .042 \n",
    "# apparel = .039 \n",
    "# dining = .132 \n",
    "# other = .058\n",
    "\n",
    "category_names = ['healthcare', 'entertainment', 'apparel', 'dining','other']\n",
    "categories = [.056, .042, .039, .132, .058]\n",
    "my_list = [i*Exp_wil for i in categories]\n",
    "#Commercial expend:\n",
    "spend = pd.DataFrame(my_list, index= category_names)\n",
    "spend.rename(columns = {0:'Spend $'}, inplace = True)\n",
    "spend['Spend %'] = (spend['Spend $']/np.sum(spend['Spend $']))*100\n",
    "spend"
   ]
  },
  {
   "cell_type": "code",
   "execution_count": 332,
   "metadata": {
    "collapsed": false
   },
   "outputs": [
    {
     "name": "stdout",
     "output_type": "stream",
     "text": [
      "Estimated Commercial spend in Williamsburg is: $ 911295541\n",
      "Estimated Commercial spend is 32.7 % of total estimated expenditures.\n"
     ]
    }
   ],
   "source": [
    "# total relevant expenses ammount is just the sum of all relevant categories\n",
    "com_spend_W = sum(spend['Spend $'])\n",
    "print 'Estimated Commercial spend in Williamsburg is: $',int(com_spend_W)\n",
    "print 'Estimated Commercial spend is', (com_spend_W/Exp_wil)*100,'% of total estimated expenditures.'"
   ]
  },
  {
   "cell_type": "markdown",
   "metadata": {},
   "source": [
    "## Calculate the amount of commercial space around the Bedford Ave. station\n",
    "- use PLUTO data\n",
    "- Total commercial space for same three Williamsburg zip codes (11206, 11211, 11237)\n",
    "- Commercial space within radius around the Bedford Ave. station, calculated using ArcGIS"
   ]
  },
  {
   "cell_type": "code",
   "execution_count": 333,
   "metadata": {
    "collapsed": false
   },
   "outputs": [
    {
     "data": {
      "text/html": [
       "<div>\n",
       "<table border=\"1\" class=\"dataframe\">\n",
       "  <thead>\n",
       "    <tr style=\"text-align: right;\">\n",
       "      <th></th>\n",
       "      <th>FID</th>\n",
       "      <th>bldgar</th>\n",
       "      <th>comare</th>\n",
       "      <th>resare</th>\n",
       "      <th>retail</th>\n",
       "      <th>office</th>\n",
       "      <th>zipco</th>\n",
       "      <th>geocode</th>\n",
       "      <th>C1</th>\n",
       "      <th>C2</th>\n",
       "      <th>C3</th>\n",
       "      <th>C4</th>\n",
       "    </tr>\n",
       "  </thead>\n",
       "  <tbody>\n",
       "    <tr>\n",
       "      <th>0</th>\n",
       "      <td>0</td>\n",
       "      <td>456906</td>\n",
       "      <td>54500</td>\n",
       "      <td>402406</td>\n",
       "      <td>8000</td>\n",
       "      <td>28325</td>\n",
       "      <td>11211</td>\n",
       "      <td>360470517001001</td>\n",
       "      <td>40</td>\n",
       "      <td>6</td>\n",
       "      <td>0</td>\n",
       "      <td>0</td>\n",
       "    </tr>\n",
       "    <tr>\n",
       "      <th>1</th>\n",
       "      <td>1</td>\n",
       "      <td>180591</td>\n",
       "      <td>65390</td>\n",
       "      <td>115201</td>\n",
       "      <td>24730</td>\n",
       "      <td>20000</td>\n",
       "      <td>11211</td>\n",
       "      <td>360470517001002</td>\n",
       "      <td>82</td>\n",
       "      <td>133</td>\n",
       "      <td>1</td>\n",
       "      <td>0</td>\n",
       "    </tr>\n",
       "    <tr>\n",
       "      <th>2</th>\n",
       "      <td>2</td>\n",
       "      <td>227160</td>\n",
       "      <td>92068</td>\n",
       "      <td>135092</td>\n",
       "      <td>46914</td>\n",
       "      <td>32111</td>\n",
       "      <td>11211</td>\n",
       "      <td>360470517001003</td>\n",
       "      <td>227</td>\n",
       "      <td>77</td>\n",
       "      <td>0</td>\n",
       "      <td>5</td>\n",
       "    </tr>\n",
       "    <tr>\n",
       "      <th>3</th>\n",
       "      <td>3</td>\n",
       "      <td>100641</td>\n",
       "      <td>15010</td>\n",
       "      <td>85631</td>\n",
       "      <td>7440</td>\n",
       "      <td>6270</td>\n",
       "      <td>11211</td>\n",
       "      <td>360470517001004</td>\n",
       "      <td>20</td>\n",
       "      <td>159</td>\n",
       "      <td>0</td>\n",
       "      <td>0</td>\n",
       "    </tr>\n",
       "    <tr>\n",
       "      <th>4</th>\n",
       "      <td>4</td>\n",
       "      <td>156414</td>\n",
       "      <td>54939</td>\n",
       "      <td>101475</td>\n",
       "      <td>29310</td>\n",
       "      <td>0</td>\n",
       "      <td>11249</td>\n",
       "      <td>360470517002001</td>\n",
       "      <td>55</td>\n",
       "      <td>114</td>\n",
       "      <td>0</td>\n",
       "      <td>0</td>\n",
       "    </tr>\n",
       "  </tbody>\n",
       "</table>\n",
       "</div>"
      ],
      "text/plain": [
       "   FID  bldgar  comare  resare  retail  office  zipco          geocode   C1  \\\n",
       "0    0  456906   54500  402406    8000   28325  11211  360470517001001   40   \n",
       "1    1  180591   65390  115201   24730   20000  11211  360470517001002   82   \n",
       "2    2  227160   92068  135092   46914   32111  11211  360470517001003  227   \n",
       "3    3  100641   15010   85631    7440    6270  11211  360470517001004   20   \n",
       "4    4  156414   54939  101475   29310       0  11249  360470517002001   55   \n",
       "\n",
       "    C2  C3  C4  \n",
       "0    6   0   0  \n",
       "1  133   1   0  \n",
       "2   77   0   5  \n",
       "3  159   0   0  \n",
       "4  114   0   0  "
      ]
     },
     "execution_count": 333,
     "metadata": {},
     "output_type": "execute_result"
    }
   ],
   "source": [
    "#This file contains PLUTO data aggregated by census blocks around Bedford Av.\n",
    "pluto_df=pd.read_csv('pluto_lehd_blocks.csv')\n",
    "pluto_df.head()"
   ]
  },
  {
   "cell_type": "code",
   "execution_count": 334,
   "metadata": {
    "collapsed": true
   },
   "outputs": [],
   "source": [
    "#Commercial Density\n",
    "dC=(pluto_df['comare']+pluto_df['retail'])/pluto_df['bldgar']\n",
    "pluto_df['commercial_density']=dC"
   ]
  },
  {
   "cell_type": "code",
   "execution_count": 335,
   "metadata": {
    "collapsed": false
   },
   "outputs": [
    {
     "name": "stdout",
     "output_type": "stream",
     "text": [
      "Commercial square footage within radius is: 2595120\n",
      "Total commercial square footage in Williamsburg is: 39715979\n",
      "The percentage of square footage within radius is: 6.53419622364 %\n"
     ]
    }
   ],
   "source": [
    "ct_area=np.sum(pluto_df.comare)\n",
    "# PLUTO: total Commerce area in Williamsburgh:\n",
    "total_comm = 39715979.0\n",
    "target_area = ct_area/total_comm\n",
    "\n",
    "print 'Commercial square footage within radius is:', ct_area\n",
    "print 'Total commercial square footage in Williamsburg is:', int(total_comm)\n",
    "print 'The percentage of square footage within radius is:', target_area*100,'%'"
   ]
  },
  {
   "cell_type": "code",
   "execution_count": 336,
   "metadata": {
    "collapsed": false
   },
   "outputs": [
    {
     "name": "stdout",
     "output_type": "stream",
     "text": [
      "The estimated size of our economy around the Bedford Station is: $ 59545838\n"
     ]
    }
   ],
   "source": [
    "# calculate commercial spend in our area, \n",
    "com_exp_bed = target_area * com_spend_W\n",
    "com_exp_bed\n",
    "print 'The estimated size of our economy around the Bedford Station is: $', int(com_exp_bed)"
   ]
  },
  {
   "cell_type": "markdown",
   "metadata": {},
   "source": [
    "##Relationship Between Foot Traffic and Density of Comercial Areas"
   ]
  },
  {
   "cell_type": "code",
   "execution_count": 337,
   "metadata": {
    "collapsed": false
   },
   "outputs": [
    {
     "data": {
      "text/html": [
       "<div>\n",
       "<table border=\"1\" class=\"dataframe\">\n",
       "  <thead>\n",
       "    <tr style=\"text-align: right;\">\n",
       "      <th></th>\n",
       "      <th>FID</th>\n",
       "      <th>bldgar</th>\n",
       "      <th>comare</th>\n",
       "      <th>resare</th>\n",
       "      <th>retail</th>\n",
       "      <th>office</th>\n",
       "      <th>zipco</th>\n",
       "      <th>geocode</th>\n",
       "      <th>C1</th>\n",
       "      <th>C2</th>\n",
       "      <th>C3</th>\n",
       "      <th>C4</th>\n",
       "      <th>commercial_density</th>\n",
       "    </tr>\n",
       "  </thead>\n",
       "  <tbody>\n",
       "    <tr>\n",
       "      <th>0</th>\n",
       "      <td>0</td>\n",
       "      <td>456906</td>\n",
       "      <td>54500</td>\n",
       "      <td>402406</td>\n",
       "      <td>8000</td>\n",
       "      <td>28325</td>\n",
       "      <td>11211</td>\n",
       "      <td>360470517001001</td>\n",
       "      <td>40</td>\n",
       "      <td>6</td>\n",
       "      <td>0</td>\n",
       "      <td>0</td>\n",
       "      <td>0.136790</td>\n",
       "    </tr>\n",
       "    <tr>\n",
       "      <th>1</th>\n",
       "      <td>1</td>\n",
       "      <td>180591</td>\n",
       "      <td>65390</td>\n",
       "      <td>115201</td>\n",
       "      <td>24730</td>\n",
       "      <td>20000</td>\n",
       "      <td>11211</td>\n",
       "      <td>360470517001002</td>\n",
       "      <td>82</td>\n",
       "      <td>133</td>\n",
       "      <td>1</td>\n",
       "      <td>0</td>\n",
       "      <td>0.499028</td>\n",
       "    </tr>\n",
       "    <tr>\n",
       "      <th>2</th>\n",
       "      <td>2</td>\n",
       "      <td>227160</td>\n",
       "      <td>92068</td>\n",
       "      <td>135092</td>\n",
       "      <td>46914</td>\n",
       "      <td>32111</td>\n",
       "      <td>11211</td>\n",
       "      <td>360470517001003</td>\n",
       "      <td>227</td>\n",
       "      <td>77</td>\n",
       "      <td>0</td>\n",
       "      <td>5</td>\n",
       "      <td>0.611824</td>\n",
       "    </tr>\n",
       "    <tr>\n",
       "      <th>3</th>\n",
       "      <td>3</td>\n",
       "      <td>100641</td>\n",
       "      <td>15010</td>\n",
       "      <td>85631</td>\n",
       "      <td>7440</td>\n",
       "      <td>6270</td>\n",
       "      <td>11211</td>\n",
       "      <td>360470517001004</td>\n",
       "      <td>20</td>\n",
       "      <td>159</td>\n",
       "      <td>0</td>\n",
       "      <td>0</td>\n",
       "      <td>0.223070</td>\n",
       "    </tr>\n",
       "    <tr>\n",
       "      <th>4</th>\n",
       "      <td>4</td>\n",
       "      <td>156414</td>\n",
       "      <td>54939</td>\n",
       "      <td>101475</td>\n",
       "      <td>29310</td>\n",
       "      <td>0</td>\n",
       "      <td>11249</td>\n",
       "      <td>360470517002001</td>\n",
       "      <td>55</td>\n",
       "      <td>114</td>\n",
       "      <td>0</td>\n",
       "      <td>0</td>\n",
       "      <td>0.538628</td>\n",
       "    </tr>\n",
       "  </tbody>\n",
       "</table>\n",
       "</div>"
      ],
      "text/plain": [
       "   FID  bldgar  comare  resare  retail  office  zipco          geocode   C1  \\\n",
       "0    0  456906   54500  402406    8000   28325  11211  360470517001001   40   \n",
       "1    1  180591   65390  115201   24730   20000  11211  360470517001002   82   \n",
       "2    2  227160   92068  135092   46914   32111  11211  360470517001003  227   \n",
       "3    3  100641   15010   85631    7440    6270  11211  360470517001004   20   \n",
       "4    4  156414   54939  101475   29310       0  11249  360470517002001   55   \n",
       "\n",
       "    C2  C3  C4  commercial_density  \n",
       "0    6   0   0            0.136790  \n",
       "1  133   1   0            0.499028  \n",
       "2   77   0   5            0.611824  \n",
       "3  159   0   0            0.223070  \n",
       "4  114   0   0            0.538628  "
      ]
     },
     "execution_count": 337,
     "metadata": {},
     "output_type": "execute_result"
    }
   ],
   "source": [
    "pluto_df.head()"
   ]
  },
  {
   "cell_type": "code",
   "execution_count": 338,
   "metadata": {
    "collapsed": false
   },
   "outputs": [
    {
     "name": "stdout",
     "output_type": "stream",
     "text": [
      "relationship between comemrcial_density and foot traffic 0.0157368720692\n"
     ]
    }
   ],
   "source": [
    "pluto_df['alpha_coef']=pluto_df.commercial_density/(R_1/1000)\n",
    "print \"relationship between comemrcial_density and foot traffic\", mean(pluto_df.alpha_coef)"
   ]
  },
  {
   "cell_type": "markdown",
   "metadata": {},
   "source": [
    "#PART 1\n",
    "## Estimating impact on foot traffic"
   ]
  },
  {
   "cell_type": "markdown",
   "metadata": {},
   "source": [
    "LEHD Data gave us that the proportion of workers that might be affected for the Canarsie tunel shotdown (people traveling from Brooklyn to Manhattan everyday) is 58%. \n",
    "\n",
    "So now, we are going to assume that our foot traffic is going to decrease for Bedford avenue to a 42% of the original value."
   ]
  },
  {
   "cell_type": "code",
   "execution_count": null,
   "metadata": {
    "collapsed": true
   },
   "outputs": [],
   "source": []
  },
  {
   "cell_type": "code",
   "execution_count": 339,
   "metadata": {
    "collapsed": false
   },
   "outputs": [
    {
     "data": {
      "text/html": [
       "<div>\n",
       "<table border=\"1\" class=\"dataframe\">\n",
       "  <thead>\n",
       "    <tr style=\"text-align: right;\">\n",
       "      <th></th>\n",
       "      <th>count_daily_exits</th>\n",
       "      <th>percent_daily_exits</th>\n",
       "      <th>distance_to_bedford</th>\n",
       "      <th>expansion_proportion</th>\n",
       "    </tr>\n",
       "  </thead>\n",
       "  <tbody>\n",
       "    <tr>\n",
       "      <th>nassau</th>\n",
       "      <td>3807</td>\n",
       "      <td>9.085268</td>\n",
       "      <td>3062.4</td>\n",
       "      <td>0.129821</td>\n",
       "    </tr>\n",
       "    <tr>\n",
       "      <th>lorimer</th>\n",
       "      <td>2553</td>\n",
       "      <td>6.092643</td>\n",
       "      <td>2217.6</td>\n",
       "      <td>0.228002</td>\n",
       "    </tr>\n",
       "    <tr>\n",
       "      <th>graham</th>\n",
       "      <td>5660</td>\n",
       "      <td>13.50739</td>\n",
       "      <td>3696.0</td>\n",
       "      <td>0.085094</td>\n",
       "    </tr>\n",
       "    <tr>\n",
       "      <th>metropolitan</th>\n",
       "      <td>3939</td>\n",
       "      <td>9.400282</td>\n",
       "      <td>2164.8</td>\n",
       "      <td>0.236171</td>\n",
       "    </tr>\n",
       "    <tr>\n",
       "      <th>bedford</th>\n",
       "      <td>22571</td>\n",
       "      <td>61.91442</td>\n",
       "      <td>0.0</td>\n",
       "      <td>1.000000</td>\n",
       "    </tr>\n",
       "  </tbody>\n",
       "</table>\n",
       "</div>"
      ],
      "text/plain": [
       "             count_daily_exits percent_daily_exits  distance_to_bedford  \\\n",
       "nassau                    3807            9.085268               3062.4   \n",
       "lorimer                   2553            6.092643               2217.6   \n",
       "graham                    5660            13.50739               3696.0   \n",
       "metropolitan              3939            9.400282               2164.8   \n",
       "bedford                  22571            61.91442                  0.0   \n",
       "\n",
       "              expansion_proportion  \n",
       "nassau                    0.129821  \n",
       "lorimer                   0.228002  \n",
       "graham                    0.085094  \n",
       "metropolitan              0.236171  \n",
       "bedford                   1.000000  "
      ]
     },
     "execution_count": 339,
     "metadata": {},
     "output_type": "execute_result"
    }
   ],
   "source": [
    "#impact_on_traf=0.58\n",
    "impact_on_traf=(3.0/2.0)*0.58\n",
    "\n",
    "foot_traffic2=foot_traffic\n",
    "foot_traffic2.head()\n",
    "foot_traffic2.loc['bedford','count_daily_exits']=int(foot_traffic.loc['bedford','count_daily_exits']*impact_on_traf)\n",
    "foot_traffic2"
   ]
  },
  {
   "cell_type": "code",
   "execution_count": 340,
   "metadata": {
    "collapsed": false
   },
   "outputs": [
    {
     "name": "stdout",
     "output_type": "stream",
     "text": [
      "CONCLUSION: The torecasted daily foot traffic in the area around Bedford Av. station is equal to R=25059\n"
     ]
    }
   ],
   "source": [
    "R_2=sum(foot_traffic.expansion_proportion*foot_traffic.count_daily_exits)\n",
    "print('CONCLUSION: The torecasted daily foot traffic in the area around Bedford Av. station is equal to R=%d')%R_2"
   ]
  },
  {
   "cell_type": "markdown",
   "metadata": {},
   "source": [
    "## Estimated Impact on Commercial Areas"
   ]
  },
  {
   "cell_type": "markdown",
   "metadata": {},
   "source": [
    "Previously, the alpha coefficient (relationship between commercial density and foot traffic) was calculated for each census block.\n",
    "Now, we are going to use the same alpha coefficient to calculate the possible reduction on commercial density"
   ]
  },
  {
   "cell_type": "code",
   "execution_count": 341,
   "metadata": {
    "collapsed": true
   },
   "outputs": [],
   "source": [
    "pluto_df2=pluto_df"
   ]
  },
  {
   "cell_type": "code",
   "execution_count": 342,
   "metadata": {
    "collapsed": false
   },
   "outputs": [
    {
     "data": {
      "text/html": [
       "<div>\n",
       "<table border=\"1\" class=\"dataframe\">\n",
       "  <thead>\n",
       "    <tr style=\"text-align: right;\">\n",
       "      <th></th>\n",
       "      <th>FID</th>\n",
       "      <th>bldgar</th>\n",
       "      <th>comare</th>\n",
       "      <th>resare</th>\n",
       "      <th>retail</th>\n",
       "      <th>office</th>\n",
       "      <th>zipco</th>\n",
       "      <th>geocode</th>\n",
       "      <th>C1</th>\n",
       "      <th>C2</th>\n",
       "      <th>C3</th>\n",
       "      <th>C4</th>\n",
       "      <th>commercial_density</th>\n",
       "      <th>alpha_coef</th>\n",
       "      <th>projected_commercial_density</th>\n",
       "      <th>projected_commercial_area</th>\n",
       "    </tr>\n",
       "  </thead>\n",
       "  <tbody>\n",
       "    <tr>\n",
       "      <th>0</th>\n",
       "      <td>0</td>\n",
       "      <td>456906</td>\n",
       "      <td>54500</td>\n",
       "      <td>402406</td>\n",
       "      <td>8000</td>\n",
       "      <td>28325</td>\n",
       "      <td>11211</td>\n",
       "      <td>360470517001001</td>\n",
       "      <td>40</td>\n",
       "      <td>6</td>\n",
       "      <td>0</td>\n",
       "      <td>0</td>\n",
       "      <td>0.136790</td>\n",
       "      <td>0.004811</td>\n",
       "      <td>0.016492</td>\n",
       "      <td>7535.116362</td>\n",
       "    </tr>\n",
       "    <tr>\n",
       "      <th>1</th>\n",
       "      <td>1</td>\n",
       "      <td>180591</td>\n",
       "      <td>65390</td>\n",
       "      <td>115201</td>\n",
       "      <td>24730</td>\n",
       "      <td>20000</td>\n",
       "      <td>11211</td>\n",
       "      <td>360470517001002</td>\n",
       "      <td>82</td>\n",
       "      <td>133</td>\n",
       "      <td>1</td>\n",
       "      <td>0</td>\n",
       "      <td>0.499028</td>\n",
       "      <td>0.017551</td>\n",
       "      <td>0.219486</td>\n",
       "      <td>39637.207760</td>\n",
       "    </tr>\n",
       "    <tr>\n",
       "      <th>2</th>\n",
       "      <td>2</td>\n",
       "      <td>227160</td>\n",
       "      <td>92068</td>\n",
       "      <td>135092</td>\n",
       "      <td>46914</td>\n",
       "      <td>32111</td>\n",
       "      <td>11211</td>\n",
       "      <td>360470517001003</td>\n",
       "      <td>227</td>\n",
       "      <td>77</td>\n",
       "      <td>0</td>\n",
       "      <td>5</td>\n",
       "      <td>0.611824</td>\n",
       "      <td>0.021519</td>\n",
       "      <td>0.329921</td>\n",
       "      <td>74944.892997</td>\n",
       "    </tr>\n",
       "    <tr>\n",
       "      <th>3</th>\n",
       "      <td>3</td>\n",
       "      <td>100641</td>\n",
       "      <td>15010</td>\n",
       "      <td>85631</td>\n",
       "      <td>7440</td>\n",
       "      <td>6270</td>\n",
       "      <td>11211</td>\n",
       "      <td>360470517001004</td>\n",
       "      <td>20</td>\n",
       "      <td>159</td>\n",
       "      <td>0</td>\n",
       "      <td>0</td>\n",
       "      <td>0.223070</td>\n",
       "      <td>0.007846</td>\n",
       "      <td>0.043857</td>\n",
       "      <td>4413.819175</td>\n",
       "    </tr>\n",
       "    <tr>\n",
       "      <th>4</th>\n",
       "      <td>4</td>\n",
       "      <td>156414</td>\n",
       "      <td>54939</td>\n",
       "      <td>101475</td>\n",
       "      <td>29310</td>\n",
       "      <td>0</td>\n",
       "      <td>11249</td>\n",
       "      <td>360470517002001</td>\n",
       "      <td>55</td>\n",
       "      <td>114</td>\n",
       "      <td>0</td>\n",
       "      <td>0</td>\n",
       "      <td>0.538628</td>\n",
       "      <td>0.018944</td>\n",
       "      <td>0.255703</td>\n",
       "      <td>39995.458215</td>\n",
       "    </tr>\n",
       "  </tbody>\n",
       "</table>\n",
       "</div>"
      ],
      "text/plain": [
       "   FID  bldgar  comare  resare  retail  office  zipco          geocode   C1  \\\n",
       "0    0  456906   54500  402406    8000   28325  11211  360470517001001   40   \n",
       "1    1  180591   65390  115201   24730   20000  11211  360470517001002   82   \n",
       "2    2  227160   92068  135092   46914   32111  11211  360470517001003  227   \n",
       "3    3  100641   15010   85631    7440    6270  11211  360470517001004   20   \n",
       "4    4  156414   54939  101475   29310       0  11249  360470517002001   55   \n",
       "\n",
       "    C2  C3  C4  commercial_density  alpha_coef  projected_commercial_density  \\\n",
       "0    6   0   0            0.136790    0.004811                      0.016492   \n",
       "1  133   1   0            0.499028    0.017551                      0.219486   \n",
       "2   77   0   5            0.611824    0.021519                      0.329921   \n",
       "3  159   0   0            0.223070    0.007846                      0.043857   \n",
       "4  114   0   0            0.538628    0.018944                      0.255703   \n",
       "\n",
       "   projected_commercial_area  \n",
       "0                7535.116362  \n",
       "1               39637.207760  \n",
       "2               74944.892997  \n",
       "3                4413.819175  \n",
       "4               39995.458215  "
      ]
     },
     "execution_count": 342,
     "metadata": {},
     "output_type": "execute_result"
    }
   ],
   "source": [
    "pluto_df2['projected_commercial_density']=pluto_df['commercial_density']*(R_2/1000)*pluto_df['alpha_coef']\n",
    "pluto_df2['projected_commercial_area']=pluto_df2['projected_commercial_density']*pluto_df2['bldgar']\n",
    "pluto_df2.head()"
   ]
  },
  {
   "cell_type": "code",
   "execution_count": 347,
   "metadata": {
    "collapsed": false
   },
   "outputs": [
    {
     "name": "stdout",
     "output_type": "stream",
     "text": [
      "Commercial square footage within radius today is: 2595120\n",
      "Commercial square footage within radius projected is: 2353232.1982\n",
      "decrease of 0.093208715511\n"
     ]
    }
   ],
   "source": [
    "ct_area=np.sum(pluto_df.comare)\n",
    "ct_area2=np.sum(pluto_df2.projected_commercial_area)\n",
    "# PLUTO: total Commerce area in Williamsburgh:\n",
    "\n",
    "\n",
    "print 'Commercial square footage within radius today is:', ct_area\n",
    "print'Commercial square footage within radius projected is:', ct_area2\n",
    "print 'decrease of',(1-ct_area2/ct_area)"
   ]
  },
  {
   "cell_type": "code",
   "execution_count": 348,
   "metadata": {
    "collapsed": false
   },
   "outputs": [
    {
     "name": "stdout",
     "output_type": "stream",
     "text": [
      "The estimated size of our economy around the Bedford Station is: $ 59545838\n",
      "The estimated size of our economy around the Bedford Station after closure of tunel: $ 53995647\n",
      "decrease of 0.093208715511\n"
     ]
    }
   ],
   "source": [
    "# calculate commercial spend in our area, \n",
    "total_comm = 39715979.0\n",
    "target_area2 = ct_area2/total_comm\n",
    "com_exp_bed_proj = target_area2 * com_spend_W\n",
    "com_exp_bed=target_area * com_spend_W\n",
    "print 'The estimated size of our economy around the Bedford Station is: $', int(com_exp_bed)\n",
    "print 'The estimated size of our economy around the Bedford Station after closure of tunel: $', int(com_exp_bed_proj)\n",
    "print 'decrease of',(1-com_exp_bed_proj/com_exp_bed)"
   ]
  },
  {
   "cell_type": "code",
   "execution_count": null,
   "metadata": {
    "collapsed": true
   },
   "outputs": [],
   "source": []
  },
  {
   "cell_type": "code",
   "execution_count": null,
   "metadata": {
    "collapsed": true
   },
   "outputs": [],
   "source": []
  }
 ],
 "metadata": {
  "kernelspec": {
   "display_name": "Python 2",
   "language": "python",
   "name": "python2"
  },
  "language_info": {
   "codemirror_mode": {
    "name": "ipython",
    "version": 2
   },
   "file_extension": ".py",
   "mimetype": "text/x-python",
   "name": "python",
   "nbconvert_exporter": "python",
   "pygments_lexer": "ipython2",
   "version": "2.7.10"
  }
 },
 "nbformat": 4,
 "nbformat_minor": 0
}
