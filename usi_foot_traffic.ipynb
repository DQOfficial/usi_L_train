{
 "cells": [
  {
   "cell_type": "code",
   "execution_count": 347,
   "metadata": {
    "collapsed": true
   },
   "outputs": [],
   "source": [
    "import numpy as np\n",
    "import pandas as pd"
   ]
  },
  {
   "cell_type": "code",
   "execution_count": 348,
   "metadata": {
    "collapsed": false
   },
   "outputs": [],
   "source": [
    "# pull in files from turnstile notebook\n",
    "metropolitan = pd.read_csv('station_metropolitan.csv')\n",
    "lorimer = pd.read_csv('station_lorimer.csv')\n",
    "nassau = pd.read_csv('station_nassau.csv')\n",
    "bedford = pd.read_csv('station_bedford.csv')\n",
    "graham = pd.read_csv('station_graham.csv')\n",
    "\n",
    "# then calculate totals for each\n",
    "stations = [nassau, lorimer, bedford, metropolitan, graham]\n",
    "\n",
    "# change station here\n",
    "data = bedford"
   ]
  },
  {
   "cell_type": "code",
   "execution_count": 349,
   "metadata": {
    "collapsed": false
   },
   "outputs": [],
   "source": [
    "data.rename(columns = {'Unnamed: 0':'turnstile'}, inplace = True) \n",
    "data.set_index('turnstile',inplace = True)\n",
    "\n",
    "# replace anomalous 2.5M day on feb 25 with the median of that day for lorimer st\n",
    "#data['02/25/2016'].replace(max(data['02/25/2016']), np.median(data['02/25/2016']), inplace = True)"
   ]
  },
  {
   "cell_type": "code",
   "execution_count": 350,
   "metadata": {
    "collapsed": false
   },
   "outputs": [],
   "source": [
    "dates = list(data.columns)\n",
    "my_list = []\n",
    "for date in dates:\n",
    "    outlier = max(data[date])\n",
    "    my_list.append(outlier)"
   ]
  },
  {
   "cell_type": "code",
   "execution_count": 351,
   "metadata": {
    "collapsed": false
   },
   "outputs": [
    {
     "name": "stdout",
     "output_type": "stream",
     "text": [
      "I think our day with the anomaly might be: 02/16/2016\n"
     ]
    }
   ],
   "source": [
    "anomaly = pd.DataFrame(my_list, index = dates).idxmax() # return the index value (date) which holds the highest value\n",
    "print 'I think our day with the anomaly might be:', anomaly[0]"
   ]
  },
  {
   "cell_type": "code",
   "execution_count": 352,
   "metadata": {
    "collapsed": false
   },
   "outputs": [
    {
     "name": "stdout",
     "output_type": "stream",
     "text": [
      "Our anomaly value is: 17104699\n"
     ]
    }
   ],
   "source": [
    "print 'Our anomaly value is:',max(data['02/16/2016'])"
   ]
  },
  {
   "cell_type": "code",
   "execution_count": 353,
   "metadata": {
    "collapsed": false
   },
   "outputs": [
    {
     "data": {
      "text/plain": [
       "turnstile\n",
       "R23500-00-00     967\n",
       "R23500-00-01    2220\n",
       "R23500-03-00    2838\n",
       "R23500-03-01    2504\n",
       "R23500-03-02    2685\n",
       "R23500-03-03    2963\n",
       "R23500-03-04     952\n",
       "R23500-06-00      22\n",
       "R23500-06-01    2486\n",
       "R23500-06-02    2904\n",
       "R23500-06-03    2486\n",
       "R23500-06-04    2282\n",
       "R23500-06-05    1767\n",
       "Name: 02/16/2016, dtype: int64"
      ]
     },
     "execution_count": 353,
     "metadata": {},
     "output_type": "execute_result"
    }
   ],
   "source": [
    "# replace the anomaly value with the median of that day\n",
    "data['02/16/2016'].replace(max(data['02/16/2016']), np.median(data['02/16/2016']), inplace = True)\n",
    "data['02/16/2016']"
   ]
  },
  {
   "cell_type": "code",
   "execution_count": 354,
   "metadata": {
    "collapsed": false
   },
   "outputs": [],
   "source": [
    "dates = list(data.columns)\n",
    "my_list = []\n",
    "\n",
    "for i in dates:\n",
    "    totals = data[i].sum()\n",
    "    my_list.append(totals)"
   ]
  },
  {
   "cell_type": "code",
   "execution_count": 355,
   "metadata": {
    "collapsed": false
   },
   "outputs": [
    {
     "data": {
      "text/plain": [
       "25944"
      ]
     },
     "execution_count": 355,
     "metadata": {},
     "output_type": "execute_result"
    }
   ],
   "source": [
    "int(np.mean(my_list))"
   ]
  },
  {
   "cell_type": "code",
   "execution_count": 356,
   "metadata": {
    "collapsed": false
   },
   "outputs": [
    {
     "name": "stdout",
     "output_type": "stream",
     "text": [
      "41907\n"
     ]
    }
   ],
   "source": [
    "area = [3807, 2547, 25944, 3949, 5660]\n",
    "\n",
    "my_list2 = []\n",
    "\n",
    "for i in area:\n",
    "    my_list2.append(float(i)/np.sum(area)*100)\n",
    "my_list2\n",
    "print np.sum(area)"
   ]
  },
  {
   "cell_type": "code",
   "execution_count": 359,
   "metadata": {
    "collapsed": false
   },
   "outputs": [
    {
     "data": {
      "text/html": [
       "<div>\n",
       "<table border=\"1\" class=\"dataframe\">\n",
       "  <thead>\n",
       "    <tr style=\"text-align: right;\">\n",
       "      <th></th>\n",
       "      <th>exit %</th>\n",
       "      <th>exit_count</th>\n",
       "    </tr>\n",
       "  </thead>\n",
       "  <tbody>\n",
       "    <tr>\n",
       "      <th>nassau</th>\n",
       "      <td>9.084401</td>\n",
       "      <td>3807</td>\n",
       "    </tr>\n",
       "    <tr>\n",
       "      <th>lorimer</th>\n",
       "      <td>6.077744</td>\n",
       "      <td>2547</td>\n",
       "    </tr>\n",
       "    <tr>\n",
       "      <th>bedford</th>\n",
       "      <td>61.908512</td>\n",
       "      <td>25944</td>\n",
       "    </tr>\n",
       "    <tr>\n",
       "      <th>metropolitan</th>\n",
       "      <td>9.423247</td>\n",
       "      <td>3949</td>\n",
       "    </tr>\n",
       "    <tr>\n",
       "      <th>graham</th>\n",
       "      <td>13.506097</td>\n",
       "      <td>5660</td>\n",
       "    </tr>\n",
       "  </tbody>\n",
       "</table>\n",
       "</div>"
      ],
      "text/plain": [
       "                 exit %  exit_count\n",
       "nassau         9.084401        3807\n",
       "lorimer        6.077744        2547\n",
       "bedford       61.908512       25944\n",
       "metropolitan   9.423247        3949\n",
       "graham        13.506097        5660"
      ]
     },
     "execution_count": 359,
     "metadata": {},
     "output_type": "execute_result"
    }
   ],
   "source": [
    "stat = ['nassau', 'lorimer', 'bedford', 'metropolitan', 'graham']\n",
    "percents = pd.DataFrame(my_list2, index = stat)\n",
    "percents.rename(columns = {0:'exit %'}, inplace = True)\n",
    "percents['exit_count'] = area\n",
    "percents"
   ]
  },
  {
   "cell_type": "code",
   "execution_count": 364,
   "metadata": {
    "collapsed": false
   },
   "outputs": [
    {
     "data": {
      "text/plain": [
       "15047.520000000002"
      ]
     },
     "execution_count": 364,
     "metadata": {},
     "output_type": "execute_result"
    }
   ],
   "source": [
    "25944.0*(1.0-.42)"
   ]
  },
  {
   "cell_type": "code",
   "execution_count": 361,
   "metadata": {
    "collapsed": false
   },
   "outputs": [
    {
     "data": {
      "text/plain": [
       "nassau           3807\n",
       "lorimer          2547\n",
       "bedford         15047\n",
       "metropolitan     3949\n",
       "graham           5660\n",
       "Name: exit_count, dtype: int64"
      ]
     },
     "execution_count": 361,
     "metadata": {},
     "output_type": "execute_result"
    }
   ],
   "source": [
    "percents['exit_count'].replace(25944, 15047)"
   ]
  },
  {
   "cell_type": "code",
   "execution_count": 362,
   "metadata": {
    "collapsed": false
   },
   "outputs": [
    {
     "name": "stdout",
     "output_type": "stream",
     "text": [
      "31010\n"
     ]
    }
   ],
   "source": [
    "area = [3807, 2547, 15047, 3949, 5660]\n",
    "\n",
    "my_list2 = []\n",
    "\n",
    "for i in area:\n",
    "    my_list2.append(float(i)/np.sum(area)*100)\n",
    "my_list2\n",
    "print np.sum(area)"
   ]
  },
  {
   "cell_type": "code",
   "execution_count": null,
   "metadata": {
    "collapsed": true
   },
   "outputs": [],
   "source": []
  }
 ],
 "metadata": {
  "kernelspec": {
   "display_name": "Python 2",
   "language": "python",
   "name": "python2"
  },
  "language_info": {
   "codemirror_mode": {
    "name": "ipython",
    "version": 2
   },
   "file_extension": ".py",
   "mimetype": "text/x-python",
   "name": "python",
   "nbconvert_exporter": "python",
   "pygments_lexer": "ipython2",
   "version": "2.7.11"
  }
 },
 "nbformat": 4,
 "nbformat_minor": 0
}
