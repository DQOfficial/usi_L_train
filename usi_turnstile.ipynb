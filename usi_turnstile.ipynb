{
 "cells": [
  {
   "cell_type": "markdown",
   "metadata": {},
   "source": [
    "# Turnstile Traffic Cleaner\n",
    "\n",
    "- This notebook reads in the weekly turnstile data published by the MTA and calculates the number of exits per turnstile per station per day\n",
    "- Data can be found [here](http://web.mta.info/developers/turnstile.html)"
   ]
  },
  {
   "cell_type": "code",
   "execution_count": 28,
   "metadata": {
    "collapsed": false
   },
   "outputs": [
    {
     "name": "stdout",
     "output_type": "stream",
     "text": [
      "2.7.11 (default, Dec  5 2015, 14:44:47) \n",
      "[GCC 4.2.1 Compatible Apple LLVM 7.0.0 (clang-700.1.76)]\n"
     ]
    }
   ],
   "source": [
    "import pandas as pd\n",
    "import numpy as np\n",
    "import sys\n",
    "print sys.version"
   ]
  },
  {
   "cell_type": "code",
   "execution_count": 73,
   "metadata": {
    "collapsed": false
   },
   "outputs": [],
   "source": [
    "# # create a list of the weeks we want\n",
    "# date_range = ['160206','160213','160220','160227','160305']\n",
    "\n",
    "# my_list = []\n",
    "\n",
    "# for date in date_range:\n",
    "#     link = 'http://web.mta.info/developers/data/nyct/turnstile/turnstile_%s.txt' % (date)\n",
    "#     data = pd.read_csv(link)\n",
    "#     my_list.append(data)"
   ]
  },
  {
   "cell_type": "code",
   "execution_count": 29,
   "metadata": {
    "collapsed": false
   },
   "outputs": [],
   "source": [
    "# read in data from mta website\n",
    "data1 = pd.read_csv('http://web.mta.info/developers/data/nyct/turnstile/turnstile_160206.txt')\n",
    "data2 = pd.read_csv('http://web.mta.info/developers/data/nyct/turnstile/turnstile_160213.txt')\n",
    "data3 = pd.read_csv('http://web.mta.info/developers/data/nyct/turnstile/turnstile_160220.txt')\n",
    "data4 = pd.read_csv('http://web.mta.info/developers/data/nyct/turnstile/turnstile_160227.txt')\n",
    "data5 = pd.read_csv('http://web.mta.info/developers/data/nyct/turnstile/turnstile_160305.txt')\n",
    "\n",
    "# concatenate all into one big dataframe\n",
    "data = pd.concat([data1, data2, data3, data4, data5])"
   ]
  },
  {
   "cell_type": "code",
   "execution_count": 30,
   "metadata": {
    "collapsed": false
   },
   "outputs": [
    {
     "data": {
      "text/plain": [
       "Index([u'C/A', u'UNIT', u'SCP', u'STATION', u'LINENAME', u'DIVISION', u'DATE',\n",
       "       u'TIME', u'DESC', u'ENTRIES',\n",
       "       u'EXITS                                                               '],\n",
       "      dtype='object')"
      ]
     },
     "execution_count": 30,
     "metadata": {},
     "output_type": "execute_result"
    }
   ],
   "source": [
    "data.columns"
   ]
  },
  {
   "cell_type": "code",
   "execution_count": 31,
   "metadata": {
    "collapsed": false
   },
   "outputs": [
    {
     "data": {
      "text/html": [
       "<div>\n",
       "<table border=\"1\" class=\"dataframe\">\n",
       "  <thead>\n",
       "    <tr style=\"text-align: right;\">\n",
       "      <th></th>\n",
       "      <th>C/A</th>\n",
       "      <th>UNIT</th>\n",
       "      <th>SCP</th>\n",
       "      <th>STATION</th>\n",
       "      <th>LINENAME</th>\n",
       "      <th>DIVISION</th>\n",
       "      <th>DATE</th>\n",
       "      <th>TIME</th>\n",
       "      <th>DESC</th>\n",
       "      <th>ENTRIES</th>\n",
       "      <th>EXITS</th>\n",
       "    </tr>\n",
       "  </thead>\n",
       "  <tbody>\n",
       "    <tr>\n",
       "      <th>0</th>\n",
       "      <td>A002</td>\n",
       "      <td>R051</td>\n",
       "      <td>02-00-00</td>\n",
       "      <td>59 ST</td>\n",
       "      <td>NQR456</td>\n",
       "      <td>BMT</td>\n",
       "      <td>01/30/2016</td>\n",
       "      <td>03:00:00</td>\n",
       "      <td>REGULAR</td>\n",
       "      <td>5519707</td>\n",
       "      <td>1863544</td>\n",
       "    </tr>\n",
       "    <tr>\n",
       "      <th>1</th>\n",
       "      <td>A002</td>\n",
       "      <td>R051</td>\n",
       "      <td>02-00-00</td>\n",
       "      <td>59 ST</td>\n",
       "      <td>NQR456</td>\n",
       "      <td>BMT</td>\n",
       "      <td>01/30/2016</td>\n",
       "      <td>07:00:00</td>\n",
       "      <td>REGULAR</td>\n",
       "      <td>5519718</td>\n",
       "      <td>1863554</td>\n",
       "    </tr>\n",
       "    <tr>\n",
       "      <th>2</th>\n",
       "      <td>A002</td>\n",
       "      <td>R051</td>\n",
       "      <td>02-00-00</td>\n",
       "      <td>59 ST</td>\n",
       "      <td>NQR456</td>\n",
       "      <td>BMT</td>\n",
       "      <td>01/30/2016</td>\n",
       "      <td>11:00:00</td>\n",
       "      <td>REGULAR</td>\n",
       "      <td>5519829</td>\n",
       "      <td>1863630</td>\n",
       "    </tr>\n",
       "    <tr>\n",
       "      <th>3</th>\n",
       "      <td>A002</td>\n",
       "      <td>R051</td>\n",
       "      <td>02-00-00</td>\n",
       "      <td>59 ST</td>\n",
       "      <td>NQR456</td>\n",
       "      <td>BMT</td>\n",
       "      <td>01/30/2016</td>\n",
       "      <td>15:00:00</td>\n",
       "      <td>REGULAR</td>\n",
       "      <td>5520132</td>\n",
       "      <td>1863693</td>\n",
       "    </tr>\n",
       "    <tr>\n",
       "      <th>4</th>\n",
       "      <td>A002</td>\n",
       "      <td>R051</td>\n",
       "      <td>02-00-00</td>\n",
       "      <td>59 ST</td>\n",
       "      <td>NQR456</td>\n",
       "      <td>BMT</td>\n",
       "      <td>01/30/2016</td>\n",
       "      <td>19:00:00</td>\n",
       "      <td>REGULAR</td>\n",
       "      <td>5520596</td>\n",
       "      <td>1863760</td>\n",
       "    </tr>\n",
       "  </tbody>\n",
       "</table>\n",
       "</div>"
      ],
      "text/plain": [
       "    C/A  UNIT       SCP STATION LINENAME DIVISION        DATE      TIME  \\\n",
       "0  A002  R051  02-00-00   59 ST   NQR456      BMT  01/30/2016  03:00:00   \n",
       "1  A002  R051  02-00-00   59 ST   NQR456      BMT  01/30/2016  07:00:00   \n",
       "2  A002  R051  02-00-00   59 ST   NQR456      BMT  01/30/2016  11:00:00   \n",
       "3  A002  R051  02-00-00   59 ST   NQR456      BMT  01/30/2016  15:00:00   \n",
       "4  A002  R051  02-00-00   59 ST   NQR456      BMT  01/30/2016  19:00:00   \n",
       "\n",
       "      DESC  ENTRIES    EXITS  \n",
       "0  REGULAR  5519707  1863544  \n",
       "1  REGULAR  5519718  1863554  \n",
       "2  REGULAR  5519829  1863630  \n",
       "3  REGULAR  5520132  1863693  \n",
       "4  REGULAR  5520596  1863760  "
      ]
     },
     "execution_count": 31,
     "metadata": {},
     "output_type": "execute_result"
    }
   ],
   "source": [
    "# fix stupid EXITS column heading\n",
    "data.rename(columns = {'EXITS                                                               ':'EXITS','DATE':'DATE'}\n",
    "            ,inplace = True)\n",
    "data.head()"
   ]
  },
  {
   "cell_type": "code",
   "execution_count": 32,
   "metadata": {
    "collapsed": false
   },
   "outputs": [],
   "source": [
    "# create a unique identifier for each turnstile at a station\n",
    "data['TURNSTILE'] = data['UNIT'] + data['SCP']"
   ]
  },
  {
   "cell_type": "code",
   "execution_count": 33,
   "metadata": {
    "collapsed": false
   },
   "outputs": [
    {
     "data": {
      "text/plain": [
       "array(['METROPOLITAN AV'], dtype=object)"
      ]
     },
     "execution_count": 33,
     "metadata": {},
     "output_type": "execute_result"
    }
   ],
   "source": [
    "# look at stations on a given line to make sure we're spelling them right\n",
    "data['STATION'][data['LINENAME']=='GL'].unique()"
   ]
  },
  {
   "cell_type": "code",
   "execution_count": 34,
   "metadata": {
    "collapsed": true
   },
   "outputs": [],
   "source": [
    "# create a function that reads in the station we want to see\n",
    "def pick_station(station):\n",
    "    station = station.upper() # convert to uppercase since that's how the data is formatted\n",
    "    if station != 'METROPOLITAN AV': # there are two stations named metropolitan ave, so we handle that below\n",
    "        station = data[data['STATION']==station]\n",
    "    else:\n",
    "        station = data[(data['STATION']==station) & (data['LINENAME']=='GL')] # only use the metropolitan ave on the GL\n",
    "        \n",
    "    return station.head()"
   ]
  },
  {
   "cell_type": "code",
   "execution_count": 35,
   "metadata": {
    "collapsed": false
   },
   "outputs": [
    {
     "data": {
      "text/html": [
       "<div>\n",
       "<table border=\"1\" class=\"dataframe\">\n",
       "  <thead>\n",
       "    <tr style=\"text-align: right;\">\n",
       "      <th></th>\n",
       "      <th>C/A</th>\n",
       "      <th>UNIT</th>\n",
       "      <th>SCP</th>\n",
       "      <th>STATION</th>\n",
       "      <th>LINENAME</th>\n",
       "      <th>DIVISION</th>\n",
       "      <th>DATE</th>\n",
       "      <th>TIME</th>\n",
       "      <th>DESC</th>\n",
       "      <th>ENTRIES</th>\n",
       "      <th>EXITS</th>\n",
       "      <th>TURNSTILE</th>\n",
       "    </tr>\n",
       "  </thead>\n",
       "  <tbody>\n",
       "    <tr>\n",
       "      <th>31030</th>\n",
       "      <td>H012</td>\n",
       "      <td>R268</td>\n",
       "      <td>01-00-00</td>\n",
       "      <td>LORIMER ST</td>\n",
       "      <td>LG</td>\n",
       "      <td>BMT</td>\n",
       "      <td>01/30/2016</td>\n",
       "      <td>00:00:00</td>\n",
       "      <td>REGULAR</td>\n",
       "      <td>363003</td>\n",
       "      <td>112563</td>\n",
       "      <td>R26801-00-00</td>\n",
       "    </tr>\n",
       "    <tr>\n",
       "      <th>31031</th>\n",
       "      <td>H012</td>\n",
       "      <td>R268</td>\n",
       "      <td>01-00-00</td>\n",
       "      <td>LORIMER ST</td>\n",
       "      <td>LG</td>\n",
       "      <td>BMT</td>\n",
       "      <td>01/30/2016</td>\n",
       "      <td>04:00:00</td>\n",
       "      <td>REGULAR</td>\n",
       "      <td>363080</td>\n",
       "      <td>112617</td>\n",
       "      <td>R26801-00-00</td>\n",
       "    </tr>\n",
       "    <tr>\n",
       "      <th>31032</th>\n",
       "      <td>H012</td>\n",
       "      <td>R268</td>\n",
       "      <td>01-00-00</td>\n",
       "      <td>LORIMER ST</td>\n",
       "      <td>LG</td>\n",
       "      <td>BMT</td>\n",
       "      <td>01/30/2016</td>\n",
       "      <td>08:00:00</td>\n",
       "      <td>REGULAR</td>\n",
       "      <td>363145</td>\n",
       "      <td>112630</td>\n",
       "      <td>R26801-00-00</td>\n",
       "    </tr>\n",
       "    <tr>\n",
       "      <th>31033</th>\n",
       "      <td>H012</td>\n",
       "      <td>R268</td>\n",
       "      <td>01-00-00</td>\n",
       "      <td>LORIMER ST</td>\n",
       "      <td>LG</td>\n",
       "      <td>BMT</td>\n",
       "      <td>01/30/2016</td>\n",
       "      <td>12:00:00</td>\n",
       "      <td>REGULAR</td>\n",
       "      <td>363503</td>\n",
       "      <td>112690</td>\n",
       "      <td>R26801-00-00</td>\n",
       "    </tr>\n",
       "    <tr>\n",
       "      <th>31034</th>\n",
       "      <td>H012</td>\n",
       "      <td>R268</td>\n",
       "      <td>01-00-00</td>\n",
       "      <td>LORIMER ST</td>\n",
       "      <td>LG</td>\n",
       "      <td>BMT</td>\n",
       "      <td>01/30/2016</td>\n",
       "      <td>16:00:00</td>\n",
       "      <td>REGULAR</td>\n",
       "      <td>363998</td>\n",
       "      <td>112811</td>\n",
       "      <td>R26801-00-00</td>\n",
       "    </tr>\n",
       "  </tbody>\n",
       "</table>\n",
       "</div>"
      ],
      "text/plain": [
       "        C/A  UNIT       SCP     STATION LINENAME DIVISION        DATE  \\\n",
       "31030  H012  R268  01-00-00  LORIMER ST       LG      BMT  01/30/2016   \n",
       "31031  H012  R268  01-00-00  LORIMER ST       LG      BMT  01/30/2016   \n",
       "31032  H012  R268  01-00-00  LORIMER ST       LG      BMT  01/30/2016   \n",
       "31033  H012  R268  01-00-00  LORIMER ST       LG      BMT  01/30/2016   \n",
       "31034  H012  R268  01-00-00  LORIMER ST       LG      BMT  01/30/2016   \n",
       "\n",
       "           TIME     DESC  ENTRIES   EXITS     TURNSTILE  \n",
       "31030  00:00:00  REGULAR   363003  112563  R26801-00-00  \n",
       "31031  04:00:00  REGULAR   363080  112617  R26801-00-00  \n",
       "31032  08:00:00  REGULAR   363145  112630  R26801-00-00  \n",
       "31033  12:00:00  REGULAR   363503  112690  R26801-00-00  \n",
       "31034  16:00:00  REGULAR   363998  112811  R26801-00-00  "
      ]
     },
     "execution_count": 35,
     "metadata": {},
     "output_type": "execute_result"
    }
   ],
   "source": [
    "# change the station you want to see here:\n",
    "st = 'lorimer st'\n",
    "\n",
    "pick_station(st)"
   ]
  },
  {
   "cell_type": "code",
   "execution_count": 36,
   "metadata": {
    "collapsed": false
   },
   "outputs": [
    {
     "name": "stdout",
     "output_type": "stream",
     "text": [
      "Number of turnstiles: 7\n",
      "['R26800-00-00' 'R26800-00-01' 'R26800-00-02' 'R26800-03-00' 'R26800-03-01'\n",
      " 'R26800-06-00' 'R26800-06-01']\n",
      "\n",
      "- - - - - - - - - - - - - - - - - - - - - - - - - - - - - - - - - - - - - - - - \n",
      "\n",
      "Days of the week: 34\n",
      "['01/30/2016' '01/31/2016' '02/01/2016' '02/02/2016' '02/03/2016'\n",
      " '02/04/2016' '02/05/2016' '02/06/2016' '02/07/2016' '02/08/2016'\n",
      " '02/09/2016' '02/10/2016' '02/11/2016' '02/13/2016' '02/14/2016'\n",
      " '02/15/2016' '02/16/2016' '02/17/2016' '02/18/2016' '02/19/2016'\n",
      " '02/20/2016' '02/21/2016' '02/22/2016' '02/23/2016' '02/24/2016'\n",
      " '02/25/2016' '02/26/2016' '02/27/2016' '02/28/2016' '02/29/2016'\n",
      " '03/01/2016' '03/02/2016' '03/03/2016' '03/04/2016']\n"
     ]
    }
   ],
   "source": [
    "# create lists of turnstiles and dates; these will become our column and index values\n",
    "turn_list = np.asarray(station.TURNSTILE.unique())\n",
    "date_list = np.asarray(station.DATE.unique())\n",
    "print 'Number of turnstiles:',len(turn_list)\n",
    "print turn_list\n",
    "print ''\n",
    "print '- - '*20\n",
    "print ''\n",
    "print 'Days of the week:',len(date_list)\n",
    "print date_list"
   ]
  },
  {
   "cell_type": "markdown",
   "metadata": {},
   "source": [
    "### This assumes that the number of people passing through a turnstile on a given day is the minimum (beginning of the day) minus the maximum (end of the day) value"
   ]
  },
  {
   "cell_type": "code",
   "execution_count": 37,
   "metadata": {
    "collapsed": false,
    "scrolled": true
   },
   "outputs": [],
   "source": [
    "my_list = []\n",
    "for d in date_list:\n",
    "    for i in turn_list:\n",
    "        try:\n",
    "            t_max = max(station.EXITS[(station['TURNSTILE']==i) & (station['DATE']==d)]) \n",
    "            t_min = min(station.EXITS[(station['TURNSTILE']==i) & (station['DATE']==d)])\n",
    "            out = t_max - t_min\n",
    "            my_list.append(out)\n",
    "        except ValueError: # adding exception handling for metropolitan ave issue\n",
    "            my_list.append(out)"
   ]
  },
  {
   "cell_type": "code",
   "execution_count": 38,
   "metadata": {
    "collapsed": false
   },
   "outputs": [],
   "source": [
    "# need to reshape the array since the my_list output is a Nx1 array, but we want 7xN\n",
    "# use len() to account for different numbers of days and turnstiles\n",
    "turn_array = np.asarray(my_list).reshape(len(date_list),len(turn_list))\n",
    "turn_list = list(station.TURNSTILE.unique()) # convert to list for easier dataframe creation"
   ]
  },
  {
   "cell_type": "code",
   "execution_count": 39,
   "metadata": {
    "collapsed": false
   },
   "outputs": [
    {
     "data": {
      "text/html": [
       "<div>\n",
       "<table border=\"1\" class=\"dataframe\">\n",
       "  <thead>\n",
       "    <tr style=\"text-align: right;\">\n",
       "      <th></th>\n",
       "      <th>01/30/2016</th>\n",
       "      <th>01/31/2016</th>\n",
       "      <th>02/01/2016</th>\n",
       "      <th>02/02/2016</th>\n",
       "      <th>02/03/2016</th>\n",
       "      <th>02/04/2016</th>\n",
       "      <th>02/05/2016</th>\n",
       "      <th>02/06/2016</th>\n",
       "      <th>02/07/2016</th>\n",
       "      <th>02/08/2016</th>\n",
       "      <th>...</th>\n",
       "      <th>02/24/2016</th>\n",
       "      <th>02/25/2016</th>\n",
       "      <th>02/26/2016</th>\n",
       "      <th>02/27/2016</th>\n",
       "      <th>02/28/2016</th>\n",
       "      <th>02/29/2016</th>\n",
       "      <th>03/01/2016</th>\n",
       "      <th>03/02/2016</th>\n",
       "      <th>03/03/2016</th>\n",
       "      <th>03/04/2016</th>\n",
       "    </tr>\n",
       "  </thead>\n",
       "  <tbody>\n",
       "    <tr>\n",
       "      <th>R26800-00-00</th>\n",
       "      <td>1495</td>\n",
       "      <td>1298</td>\n",
       "      <td>1298</td>\n",
       "      <td>1305</td>\n",
       "      <td>1329</td>\n",
       "      <td>1354</td>\n",
       "      <td>1397</td>\n",
       "      <td>1455</td>\n",
       "      <td>1213</td>\n",
       "      <td>1234</td>\n",
       "      <td>...</td>\n",
       "      <td>1201</td>\n",
       "      <td>1365</td>\n",
       "      <td>1317</td>\n",
       "      <td>1294</td>\n",
       "      <td>1100</td>\n",
       "      <td>1364</td>\n",
       "      <td>1427</td>\n",
       "      <td>1322</td>\n",
       "      <td>1396</td>\n",
       "      <td>1426</td>\n",
       "    </tr>\n",
       "    <tr>\n",
       "      <th>R26800-00-01</th>\n",
       "      <td>728</td>\n",
       "      <td>590</td>\n",
       "      <td>506</td>\n",
       "      <td>546</td>\n",
       "      <td>524</td>\n",
       "      <td>555</td>\n",
       "      <td>646</td>\n",
       "      <td>787</td>\n",
       "      <td>696</td>\n",
       "      <td>508</td>\n",
       "      <td>...</td>\n",
       "      <td>574</td>\n",
       "      <td>597</td>\n",
       "      <td>583</td>\n",
       "      <td>593</td>\n",
       "      <td>593</td>\n",
       "      <td>570</td>\n",
       "      <td>685</td>\n",
       "      <td>565</td>\n",
       "      <td>640</td>\n",
       "      <td>678</td>\n",
       "    </tr>\n",
       "    <tr>\n",
       "      <th>R26800-00-02</th>\n",
       "      <td>373</td>\n",
       "      <td>271</td>\n",
       "      <td>238</td>\n",
       "      <td>251</td>\n",
       "      <td>245</td>\n",
       "      <td>225</td>\n",
       "      <td>269</td>\n",
       "      <td>391</td>\n",
       "      <td>351</td>\n",
       "      <td>202</td>\n",
       "      <td>...</td>\n",
       "      <td>272</td>\n",
       "      <td>243</td>\n",
       "      <td>293</td>\n",
       "      <td>335</td>\n",
       "      <td>287</td>\n",
       "      <td>215</td>\n",
       "      <td>475</td>\n",
       "      <td>252</td>\n",
       "      <td>416</td>\n",
       "      <td>489</td>\n",
       "    </tr>\n",
       "    <tr>\n",
       "      <th>R26800-03-00</th>\n",
       "      <td>404</td>\n",
       "      <td>327</td>\n",
       "      <td>299</td>\n",
       "      <td>302</td>\n",
       "      <td>308</td>\n",
       "      <td>315</td>\n",
       "      <td>358</td>\n",
       "      <td>365</td>\n",
       "      <td>299</td>\n",
       "      <td>264</td>\n",
       "      <td>...</td>\n",
       "      <td>324</td>\n",
       "      <td>383</td>\n",
       "      <td>351</td>\n",
       "      <td>342</td>\n",
       "      <td>335</td>\n",
       "      <td>320</td>\n",
       "      <td>319</td>\n",
       "      <td>286</td>\n",
       "      <td>345</td>\n",
       "      <td>300</td>\n",
       "    </tr>\n",
       "    <tr>\n",
       "      <th>R26800-03-01</th>\n",
       "      <td>861</td>\n",
       "      <td>810</td>\n",
       "      <td>722</td>\n",
       "      <td>717</td>\n",
       "      <td>713</td>\n",
       "      <td>780</td>\n",
       "      <td>793</td>\n",
       "      <td>906</td>\n",
       "      <td>754</td>\n",
       "      <td>646</td>\n",
       "      <td>...</td>\n",
       "      <td>734</td>\n",
       "      <td>679</td>\n",
       "      <td>778</td>\n",
       "      <td>855</td>\n",
       "      <td>798</td>\n",
       "      <td>715</td>\n",
       "      <td>712</td>\n",
       "      <td>782</td>\n",
       "      <td>779</td>\n",
       "      <td>769</td>\n",
       "    </tr>\n",
       "    <tr>\n",
       "      <th>R26800-06-00</th>\n",
       "      <td>257</td>\n",
       "      <td>249</td>\n",
       "      <td>132</td>\n",
       "      <td>161</td>\n",
       "      <td>175</td>\n",
       "      <td>166</td>\n",
       "      <td>242</td>\n",
       "      <td>249</td>\n",
       "      <td>218</td>\n",
       "      <td>148</td>\n",
       "      <td>...</td>\n",
       "      <td>277</td>\n",
       "      <td>184</td>\n",
       "      <td>192</td>\n",
       "      <td>183</td>\n",
       "      <td>186</td>\n",
       "      <td>183</td>\n",
       "      <td>185</td>\n",
       "      <td>211</td>\n",
       "      <td>241</td>\n",
       "      <td>187</td>\n",
       "    </tr>\n",
       "    <tr>\n",
       "      <th>R26800-06-01</th>\n",
       "      <td>752</td>\n",
       "      <td>682</td>\n",
       "      <td>506</td>\n",
       "      <td>592</td>\n",
       "      <td>515</td>\n",
       "      <td>555</td>\n",
       "      <td>654</td>\n",
       "      <td>734</td>\n",
       "      <td>683</td>\n",
       "      <td>450</td>\n",
       "      <td>...</td>\n",
       "      <td>725</td>\n",
       "      <td>610</td>\n",
       "      <td>689</td>\n",
       "      <td>585</td>\n",
       "      <td>564</td>\n",
       "      <td>525</td>\n",
       "      <td>691</td>\n",
       "      <td>645</td>\n",
       "      <td>590</td>\n",
       "      <td>589</td>\n",
       "    </tr>\n",
       "  </tbody>\n",
       "</table>\n",
       "<p>7 rows × 34 columns</p>\n",
       "</div>"
      ],
      "text/plain": [
       "              01/30/2016  01/31/2016  02/01/2016  02/02/2016  02/03/2016  \\\n",
       "R26800-00-00        1495        1298        1298        1305        1329   \n",
       "R26800-00-01         728         590         506         546         524   \n",
       "R26800-00-02         373         271         238         251         245   \n",
       "R26800-03-00         404         327         299         302         308   \n",
       "R26800-03-01         861         810         722         717         713   \n",
       "R26800-06-00         257         249         132         161         175   \n",
       "R26800-06-01         752         682         506         592         515   \n",
       "\n",
       "              02/04/2016  02/05/2016  02/06/2016  02/07/2016  02/08/2016  \\\n",
       "R26800-00-00        1354        1397        1455        1213        1234   \n",
       "R26800-00-01         555         646         787         696         508   \n",
       "R26800-00-02         225         269         391         351         202   \n",
       "R26800-03-00         315         358         365         299         264   \n",
       "R26800-03-01         780         793         906         754         646   \n",
       "R26800-06-00         166         242         249         218         148   \n",
       "R26800-06-01         555         654         734         683         450   \n",
       "\n",
       "                 ...      02/24/2016  02/25/2016  02/26/2016  02/27/2016  \\\n",
       "R26800-00-00     ...            1201        1365        1317        1294   \n",
       "R26800-00-01     ...             574         597         583         593   \n",
       "R26800-00-02     ...             272         243         293         335   \n",
       "R26800-03-00     ...             324         383         351         342   \n",
       "R26800-03-01     ...             734         679         778         855   \n",
       "R26800-06-00     ...             277         184         192         183   \n",
       "R26800-06-01     ...             725         610         689         585   \n",
       "\n",
       "              02/28/2016  02/29/2016  03/01/2016  03/02/2016  03/03/2016  \\\n",
       "R26800-00-00        1100        1364        1427        1322        1396   \n",
       "R26800-00-01         593         570         685         565         640   \n",
       "R26800-00-02         287         215         475         252         416   \n",
       "R26800-03-00         335         320         319         286         345   \n",
       "R26800-03-01         798         715         712         782         779   \n",
       "R26800-06-00         186         183         185         211         241   \n",
       "R26800-06-01         564         525         691         645         590   \n",
       "\n",
       "              03/04/2016  \n",
       "R26800-00-00        1426  \n",
       "R26800-00-01         678  \n",
       "R26800-00-02         489  \n",
       "R26800-03-00         300  \n",
       "R26800-03-01         769  \n",
       "R26800-06-00         187  \n",
       "R26800-06-01         589  \n",
       "\n",
       "[7 rows x 34 columns]"
      ]
     },
     "execution_count": 39,
     "metadata": {},
     "output_type": "execute_result"
    }
   ],
   "source": [
    "final = pd.DataFrame(turn_array,index = date_list, columns = turn_list).T # transpose to make it more intelligible\n",
    "final"
   ]
  },
  {
   "cell_type": "markdown",
   "metadata": {},
   "source": [
    "## Don't forget to change file names below\n",
    "- just used this to save to the USI folder on my machine"
   ]
  },
  {
   "cell_type": "code",
   "execution_count": 43,
   "metadata": {
    "collapsed": false
   },
   "outputs": [
    {
     "name": "stdout",
     "output_type": "stream",
     "text": [
      "Done!\n"
     ]
    }
   ],
   "source": [
    "#final.to_csv('USI/station_metropolitan.csv')# changed file names manually on purpose\n",
    "print 'Done!'"
   ]
  }
 ],
 "metadata": {
  "kernelspec": {
   "display_name": "Python 2",
   "language": "python",
   "name": "python2"
  },
  "language_info": {
   "codemirror_mode": {
    "name": "ipython",
    "version": 2
   },
   "file_extension": ".py",
   "mimetype": "text/x-python",
   "name": "python",
   "nbconvert_exporter": "python",
   "pygments_lexer": "ipython2",
   "version": "2.7.11"
  }
 },
 "nbformat": 4,
 "nbformat_minor": 0
}
