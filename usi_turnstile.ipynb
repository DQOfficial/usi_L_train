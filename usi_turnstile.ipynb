{
 "cells": [
  {
   "cell_type": "code",
   "execution_count": 144,
   "metadata": {
    "collapsed": true
   },
   "outputs": [],
   "source": [
    "import pandas as pd\n",
    "import numpy as np"
   ]
  },
  {
   "cell_type": "code",
   "execution_count": 145,
   "metadata": {
    "collapsed": false
   },
   "outputs": [],
   "source": [
    "data = pd.read_csv('http://web.mta.info/developers/data/nyct/turnstile/turnstile_160213.txt')"
   ]
  },
  {
   "cell_type": "code",
   "execution_count": 146,
   "metadata": {
    "collapsed": false
   },
   "outputs": [
    {
     "data": {
      "text/plain": [
       "Index([u'C/A', u'UNIT', u'SCP', u'STATION', u'LINENAME', u'DIVISION', u'DATE',\n",
       "       u'TIME', u'DESC', u'ENTRIES',\n",
       "       u'EXITS                                                               '],\n",
       "      dtype='object')"
      ]
     },
     "execution_count": 146,
     "metadata": {},
     "output_type": "execute_result"
    }
   ],
   "source": [
    "data.columns"
   ]
  },
  {
   "cell_type": "code",
   "execution_count": 147,
   "metadata": {
    "collapsed": false
   },
   "outputs": [
    {
     "data": {
      "text/html": [
       "<div>\n",
       "<table border=\"1\" class=\"dataframe\">\n",
       "  <thead>\n",
       "    <tr style=\"text-align: right;\">\n",
       "      <th></th>\n",
       "      <th>C/A</th>\n",
       "      <th>UNIT</th>\n",
       "      <th>SCP</th>\n",
       "      <th>STATION</th>\n",
       "      <th>LINENAME</th>\n",
       "      <th>DIVISION</th>\n",
       "      <th>DATE</th>\n",
       "      <th>TIME</th>\n",
       "      <th>DESC</th>\n",
       "      <th>ENTRIES</th>\n",
       "      <th>EXITS</th>\n",
       "    </tr>\n",
       "  </thead>\n",
       "  <tbody>\n",
       "    <tr>\n",
       "      <th>0</th>\n",
       "      <td>A002</td>\n",
       "      <td>R051</td>\n",
       "      <td>02-00-00</td>\n",
       "      <td>59 ST</td>\n",
       "      <td>NQR456</td>\n",
       "      <td>BMT</td>\n",
       "      <td>02/06/2016</td>\n",
       "      <td>03:00:00</td>\n",
       "      <td>REGULAR</td>\n",
       "      <td>5530860</td>\n",
       "      <td>1867106</td>\n",
       "    </tr>\n",
       "    <tr>\n",
       "      <th>1</th>\n",
       "      <td>A002</td>\n",
       "      <td>R051</td>\n",
       "      <td>02-00-00</td>\n",
       "      <td>59 ST</td>\n",
       "      <td>NQR456</td>\n",
       "      <td>BMT</td>\n",
       "      <td>02/06/2016</td>\n",
       "      <td>07:00:00</td>\n",
       "      <td>REGULAR</td>\n",
       "      <td>5530874</td>\n",
       "      <td>1867120</td>\n",
       "    </tr>\n",
       "    <tr>\n",
       "      <th>2</th>\n",
       "      <td>A002</td>\n",
       "      <td>R051</td>\n",
       "      <td>02-00-00</td>\n",
       "      <td>59 ST</td>\n",
       "      <td>NQR456</td>\n",
       "      <td>BMT</td>\n",
       "      <td>02/06/2016</td>\n",
       "      <td>11:00:00</td>\n",
       "      <td>REGULAR</td>\n",
       "      <td>5530973</td>\n",
       "      <td>1867216</td>\n",
       "    </tr>\n",
       "    <tr>\n",
       "      <th>3</th>\n",
       "      <td>A002</td>\n",
       "      <td>R051</td>\n",
       "      <td>02-00-00</td>\n",
       "      <td>59 ST</td>\n",
       "      <td>NQR456</td>\n",
       "      <td>BMT</td>\n",
       "      <td>02/06/2016</td>\n",
       "      <td>15:00:00</td>\n",
       "      <td>REGULAR</td>\n",
       "      <td>5531226</td>\n",
       "      <td>1867280</td>\n",
       "    </tr>\n",
       "    <tr>\n",
       "      <th>4</th>\n",
       "      <td>A002</td>\n",
       "      <td>R051</td>\n",
       "      <td>02-00-00</td>\n",
       "      <td>59 ST</td>\n",
       "      <td>NQR456</td>\n",
       "      <td>BMT</td>\n",
       "      <td>02/06/2016</td>\n",
       "      <td>19:00:00</td>\n",
       "      <td>REGULAR</td>\n",
       "      <td>5531634</td>\n",
       "      <td>1867368</td>\n",
       "    </tr>\n",
       "  </tbody>\n",
       "</table>\n",
       "</div>"
      ],
      "text/plain": [
       "    C/A  UNIT       SCP STATION LINENAME DIVISION        DATE      TIME  \\\n",
       "0  A002  R051  02-00-00   59 ST   NQR456      BMT  02/06/2016  03:00:00   \n",
       "1  A002  R051  02-00-00   59 ST   NQR456      BMT  02/06/2016  07:00:00   \n",
       "2  A002  R051  02-00-00   59 ST   NQR456      BMT  02/06/2016  11:00:00   \n",
       "3  A002  R051  02-00-00   59 ST   NQR456      BMT  02/06/2016  15:00:00   \n",
       "4  A002  R051  02-00-00   59 ST   NQR456      BMT  02/06/2016  19:00:00   \n",
       "\n",
       "      DESC  ENTRIES    EXITS  \n",
       "0  REGULAR  5530860  1867106  \n",
       "1  REGULAR  5530874  1867120  \n",
       "2  REGULAR  5530973  1867216  \n",
       "3  REGULAR  5531226  1867280  \n",
       "4  REGULAR  5531634  1867368  "
      ]
     },
     "execution_count": 147,
     "metadata": {},
     "output_type": "execute_result"
    }
   ],
   "source": [
    "data.rename(columns = {'EXITS                                                               ':'EXITS','DATE':'DATE'}\n",
    "            ,inplace = True)\n",
    "data.head()"
   ]
  },
  {
   "cell_type": "code",
   "execution_count": 148,
   "metadata": {
    "collapsed": false
   },
   "outputs": [],
   "source": [
    "# create an identifier for each turnstile at a station\n",
    "data['TURNSTILE'] = data['UNIT'] + data['SCP']"
   ]
  },
  {
   "cell_type": "code",
   "execution_count": 149,
   "metadata": {
    "collapsed": false
   },
   "outputs": [
    {
     "data": {
      "text/plain": [
       "array(['02/06/2016', '02/07/2016', '02/08/2016', '02/09/2016',\n",
       "       '02/10/2016', '02/11/2016', '02/12/2016'], dtype=object)"
      ]
     },
     "execution_count": 149,
     "metadata": {},
     "output_type": "execute_result"
    }
   ],
   "source": [
    "np.unique(data.DATE)"
   ]
  },
  {
   "cell_type": "markdown",
   "metadata": {},
   "source": [
    "### Stations of interest:\n",
    "- Bedford Ave\n",
    "- Lorimer St\n",
    "- Metropolitan Ave\n",
    "- Nassau Ave\n",
    "- Marcy Av"
   ]
  },
  {
   "cell_type": "code",
   "execution_count": 150,
   "metadata": {
    "collapsed": false
   },
   "outputs": [
    {
     "data": {
      "text/html": [
       "<div>\n",
       "<table border=\"1\" class=\"dataframe\">\n",
       "  <thead>\n",
       "    <tr style=\"text-align: right;\">\n",
       "      <th></th>\n",
       "      <th>C/A</th>\n",
       "      <th>UNIT</th>\n",
       "      <th>SCP</th>\n",
       "      <th>STATION</th>\n",
       "      <th>LINENAME</th>\n",
       "      <th>DIVISION</th>\n",
       "      <th>DATE</th>\n",
       "      <th>TIME</th>\n",
       "      <th>DESC</th>\n",
       "      <th>ENTRIES</th>\n",
       "      <th>EXITS</th>\n",
       "      <th>TURNSTILE</th>\n",
       "    </tr>\n",
       "  </thead>\n",
       "  <tbody>\n",
       "    <tr>\n",
       "      <th>30297</th>\n",
       "      <td>H009</td>\n",
       "      <td>R235</td>\n",
       "      <td>00-00-00</td>\n",
       "      <td>BEDFORD AV</td>\n",
       "      <td>L</td>\n",
       "      <td>BMT</td>\n",
       "      <td>02/06/2016</td>\n",
       "      <td>03:00:00</td>\n",
       "      <td>REGULAR</td>\n",
       "      <td>2013752</td>\n",
       "      <td>797893</td>\n",
       "      <td>R23500-00-00</td>\n",
       "    </tr>\n",
       "    <tr>\n",
       "      <th>30298</th>\n",
       "      <td>H009</td>\n",
       "      <td>R235</td>\n",
       "      <td>00-00-00</td>\n",
       "      <td>BEDFORD AV</td>\n",
       "      <td>L</td>\n",
       "      <td>BMT</td>\n",
       "      <td>02/06/2016</td>\n",
       "      <td>07:00:00</td>\n",
       "      <td>REGULAR</td>\n",
       "      <td>2013825</td>\n",
       "      <td>797913</td>\n",
       "      <td>R23500-00-00</td>\n",
       "    </tr>\n",
       "    <tr>\n",
       "      <th>30299</th>\n",
       "      <td>H009</td>\n",
       "      <td>R235</td>\n",
       "      <td>00-00-00</td>\n",
       "      <td>BEDFORD AV</td>\n",
       "      <td>L</td>\n",
       "      <td>BMT</td>\n",
       "      <td>02/06/2016</td>\n",
       "      <td>11:00:00</td>\n",
       "      <td>REGULAR</td>\n",
       "      <td>2014117</td>\n",
       "      <td>797963</td>\n",
       "      <td>R23500-00-00</td>\n",
       "    </tr>\n",
       "    <tr>\n",
       "      <th>30300</th>\n",
       "      <td>H009</td>\n",
       "      <td>R235</td>\n",
       "      <td>00-00-00</td>\n",
       "      <td>BEDFORD AV</td>\n",
       "      <td>L</td>\n",
       "      <td>BMT</td>\n",
       "      <td>02/06/2016</td>\n",
       "      <td>15:00:00</td>\n",
       "      <td>REGULAR</td>\n",
       "      <td>2014836</td>\n",
       "      <td>798241</td>\n",
       "      <td>R23500-00-00</td>\n",
       "    </tr>\n",
       "    <tr>\n",
       "      <th>30301</th>\n",
       "      <td>H009</td>\n",
       "      <td>R235</td>\n",
       "      <td>00-00-00</td>\n",
       "      <td>BEDFORD AV</td>\n",
       "      <td>L</td>\n",
       "      <td>BMT</td>\n",
       "      <td>02/06/2016</td>\n",
       "      <td>19:00:00</td>\n",
       "      <td>REGULAR</td>\n",
       "      <td>2015738</td>\n",
       "      <td>798665</td>\n",
       "      <td>R23500-00-00</td>\n",
       "    </tr>\n",
       "  </tbody>\n",
       "</table>\n",
       "</div>"
      ],
      "text/plain": [
       "        C/A  UNIT       SCP     STATION LINENAME DIVISION        DATE  \\\n",
       "30297  H009  R235  00-00-00  BEDFORD AV        L      BMT  02/06/2016   \n",
       "30298  H009  R235  00-00-00  BEDFORD AV        L      BMT  02/06/2016   \n",
       "30299  H009  R235  00-00-00  BEDFORD AV        L      BMT  02/06/2016   \n",
       "30300  H009  R235  00-00-00  BEDFORD AV        L      BMT  02/06/2016   \n",
       "30301  H009  R235  00-00-00  BEDFORD AV        L      BMT  02/06/2016   \n",
       "\n",
       "           TIME     DESC  ENTRIES   EXITS     TURNSTILE  \n",
       "30297  03:00:00  REGULAR  2013752  797893  R23500-00-00  \n",
       "30298  07:00:00  REGULAR  2013825  797913  R23500-00-00  \n",
       "30299  11:00:00  REGULAR  2014117  797963  R23500-00-00  \n",
       "30300  15:00:00  REGULAR  2014836  798241  R23500-00-00  \n",
       "30301  19:00:00  REGULAR  2015738  798665  R23500-00-00  "
      ]
     },
     "execution_count": 150,
     "metadata": {},
     "output_type": "execute_result"
    }
   ],
   "source": [
    "# create a new dataframe with only bedford data\n",
    "bedford = data[data['STATION']=='BEDFORD AV']\n",
    "bedford.head()"
   ]
  },
  {
   "cell_type": "code",
   "execution_count": 151,
   "metadata": {
    "collapsed": false
   },
   "outputs": [],
   "source": [
    "turn_list = np.asarray(bedford1.TURNSTILE.unique())\n",
    "date_list = np.asarray(bedford.DATE.unique())"
   ]
  },
  {
   "cell_type": "code",
   "execution_count": 153,
   "metadata": {
    "collapsed": false
   },
   "outputs": [],
   "source": [
    "my_list = []\n",
    "for d in date_list:\n",
    "    for i in turn_list:\n",
    "        t_max = max(bedford.EXITS[(bedford['TURNSTILE']==i) & (bedford['DATE']==d)])\n",
    "        t_min = min(bedford.EXITS[(bedford['TURNSTILE']==i) & (bedford['DATE']==d)])\n",
    "        out = t_max - t_min\n",
    "        my_list.append(out)"
   ]
  },
  {
   "cell_type": "code",
   "execution_count": 154,
   "metadata": {
    "collapsed": false
   },
   "outputs": [],
   "source": [
    "turn_array = np.asarray(my_list).reshape(7,13)\n",
    "turn_list = list(bedford.TURNSTILE.unique())"
   ]
  },
  {
   "cell_type": "code",
   "execution_count": 157,
   "metadata": {
    "collapsed": false
   },
   "outputs": [
    {
     "data": {
      "text/html": [
       "<div>\n",
       "<table border=\"1\" class=\"dataframe\">\n",
       "  <thead>\n",
       "    <tr style=\"text-align: right;\">\n",
       "      <th></th>\n",
       "      <th>02/06/2016</th>\n",
       "      <th>02/07/2016</th>\n",
       "      <th>02/08/2016</th>\n",
       "      <th>02/09/2016</th>\n",
       "      <th>02/10/2016</th>\n",
       "      <th>02/11/2016</th>\n",
       "      <th>02/12/2016</th>\n",
       "    </tr>\n",
       "  </thead>\n",
       "  <tbody>\n",
       "    <tr>\n",
       "      <th>R23500-00-00</th>\n",
       "      <td>1042</td>\n",
       "      <td>598</td>\n",
       "      <td>870</td>\n",
       "      <td>986</td>\n",
       "      <td>1058</td>\n",
       "      <td>1000</td>\n",
       "      <td>1134</td>\n",
       "    </tr>\n",
       "    <tr>\n",
       "      <th>R23500-00-01</th>\n",
       "      <td>2226</td>\n",
       "      <td>1562</td>\n",
       "      <td>2094</td>\n",
       "      <td>2317</td>\n",
       "      <td>2319</td>\n",
       "      <td>2322</td>\n",
       "      <td>2397</td>\n",
       "    </tr>\n",
       "    <tr>\n",
       "      <th>R23500-03-00</th>\n",
       "      <td>3740</td>\n",
       "      <td>2594</td>\n",
       "      <td>2839</td>\n",
       "      <td>3072</td>\n",
       "      <td>3238</td>\n",
       "      <td>3190</td>\n",
       "      <td>3466</td>\n",
       "    </tr>\n",
       "    <tr>\n",
       "      <th>R23500-03-01</th>\n",
       "      <td>3122</td>\n",
       "      <td>2106</td>\n",
       "      <td>2472</td>\n",
       "      <td>2647</td>\n",
       "      <td>2757</td>\n",
       "      <td>2791</td>\n",
       "      <td>2976</td>\n",
       "    </tr>\n",
       "    <tr>\n",
       "      <th>R23500-03-02</th>\n",
       "      <td>2739</td>\n",
       "      <td>2066</td>\n",
       "      <td>2658</td>\n",
       "      <td>2900</td>\n",
       "      <td>3128</td>\n",
       "      <td>3125</td>\n",
       "      <td>3101</td>\n",
       "    </tr>\n",
       "    <tr>\n",
       "      <th>R23500-03-03</th>\n",
       "      <td>2454</td>\n",
       "      <td>1928</td>\n",
       "      <td>2833</td>\n",
       "      <td>3266</td>\n",
       "      <td>3103</td>\n",
       "      <td>3104</td>\n",
       "      <td>3016</td>\n",
       "    </tr>\n",
       "    <tr>\n",
       "      <th>R23500-03-04</th>\n",
       "      <td>792</td>\n",
       "      <td>677</td>\n",
       "      <td>961</td>\n",
       "      <td>988</td>\n",
       "      <td>1073</td>\n",
       "      <td>951</td>\n",
       "      <td>1026</td>\n",
       "    </tr>\n",
       "    <tr>\n",
       "      <th>R23500-06-00</th>\n",
       "      <td>16</td>\n",
       "      <td>12</td>\n",
       "      <td>17</td>\n",
       "      <td>19</td>\n",
       "      <td>34</td>\n",
       "      <td>19</td>\n",
       "      <td>26</td>\n",
       "    </tr>\n",
       "    <tr>\n",
       "      <th>R23500-06-01</th>\n",
       "      <td>77</td>\n",
       "      <td>49</td>\n",
       "      <td>60</td>\n",
       "      <td>6</td>\n",
       "      <td>169</td>\n",
       "      <td>87</td>\n",
       "      <td>81</td>\n",
       "    </tr>\n",
       "    <tr>\n",
       "      <th>R23500-06-02</th>\n",
       "      <td>3721</td>\n",
       "      <td>2462</td>\n",
       "      <td>2804</td>\n",
       "      <td>3715</td>\n",
       "      <td>3944</td>\n",
       "      <td>3596</td>\n",
       "      <td>3681</td>\n",
       "    </tr>\n",
       "    <tr>\n",
       "      <th>R23500-06-03</th>\n",
       "      <td>3264</td>\n",
       "      <td>2188</td>\n",
       "      <td>2489</td>\n",
       "      <td>2962</td>\n",
       "      <td>2945</td>\n",
       "      <td>2919</td>\n",
       "      <td>3135</td>\n",
       "    </tr>\n",
       "    <tr>\n",
       "      <th>R23500-06-04</th>\n",
       "      <td>2717</td>\n",
       "      <td>1940</td>\n",
       "      <td>2270</td>\n",
       "      <td>2665</td>\n",
       "      <td>3011</td>\n",
       "      <td>2343</td>\n",
       "      <td>2651</td>\n",
       "    </tr>\n",
       "    <tr>\n",
       "      <th>R23500-06-05</th>\n",
       "      <td>1960</td>\n",
       "      <td>1324</td>\n",
       "      <td>1738</td>\n",
       "      <td>1972</td>\n",
       "      <td>717</td>\n",
       "      <td>1920</td>\n",
       "      <td>1982</td>\n",
       "    </tr>\n",
       "  </tbody>\n",
       "</table>\n",
       "</div>"
      ],
      "text/plain": [
       "              02/06/2016  02/07/2016  02/08/2016  02/09/2016  02/10/2016  \\\n",
       "R23500-00-00        1042         598         870         986        1058   \n",
       "R23500-00-01        2226        1562        2094        2317        2319   \n",
       "R23500-03-00        3740        2594        2839        3072        3238   \n",
       "R23500-03-01        3122        2106        2472        2647        2757   \n",
       "R23500-03-02        2739        2066        2658        2900        3128   \n",
       "R23500-03-03        2454        1928        2833        3266        3103   \n",
       "R23500-03-04         792         677         961         988        1073   \n",
       "R23500-06-00          16          12          17          19          34   \n",
       "R23500-06-01          77          49          60           6         169   \n",
       "R23500-06-02        3721        2462        2804        3715        3944   \n",
       "R23500-06-03        3264        2188        2489        2962        2945   \n",
       "R23500-06-04        2717        1940        2270        2665        3011   \n",
       "R23500-06-05        1960        1324        1738        1972         717   \n",
       "\n",
       "              02/11/2016  02/12/2016  \n",
       "R23500-00-00        1000        1134  \n",
       "R23500-00-01        2322        2397  \n",
       "R23500-03-00        3190        3466  \n",
       "R23500-03-01        2791        2976  \n",
       "R23500-03-02        3125        3101  \n",
       "R23500-03-03        3104        3016  \n",
       "R23500-03-04         951        1026  \n",
       "R23500-06-00          19          26  \n",
       "R23500-06-01          87          81  \n",
       "R23500-06-02        3596        3681  \n",
       "R23500-06-03        2919        3135  \n",
       "R23500-06-04        2343        2651  \n",
       "R23500-06-05        1920        1982  "
      ]
     },
     "execution_count": 157,
     "metadata": {},
     "output_type": "execute_result"
    }
   ],
   "source": [
    "final = pd.DataFrame(turn_array,index = date_list, columns = turn_list).T\n",
    "final"
   ]
  }
 ],
 "metadata": {
  "kernelspec": {
   "display_name": "Python 2",
   "language": "python",
   "name": "python2"
  },
  "language_info": {
   "codemirror_mode": {
    "name": "ipython",
    "version": 2
   },
   "file_extension": ".py",
   "mimetype": "text/x-python",
   "name": "python",
   "nbconvert_exporter": "python",
   "pygments_lexer": "ipython2",
   "version": "2.7.11"
  }
 },
 "nbformat": 4,
 "nbformat_minor": 0
}
