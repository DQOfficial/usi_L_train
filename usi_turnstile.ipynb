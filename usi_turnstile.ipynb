{
 "cells": [
  {
   "cell_type": "code",
   "execution_count": 345,
   "metadata": {
    "collapsed": true
   },
   "outputs": [],
   "source": [
    "import pandas as pd\n",
    "import numpy as np"
   ]
  },
  {
   "cell_type": "code",
   "execution_count": 346,
   "metadata": {
    "collapsed": false
   },
   "outputs": [],
   "source": [
    "# read in data from mta website\n",
    "data = pd.read_csv('http://web.mta.info/developers/data/nyct/turnstile/turnstile_160213.txt')"
   ]
  },
  {
   "cell_type": "code",
   "execution_count": 347,
   "metadata": {
    "collapsed": false
   },
   "outputs": [
    {
     "data": {
      "text/plain": [
       "Index([u'C/A', u'UNIT', u'SCP', u'STATION', u'LINENAME', u'DIVISION', u'DATE',\n",
       "       u'TIME', u'DESC', u'ENTRIES',\n",
       "       u'EXITS                                                               '],\n",
       "      dtype='object')"
      ]
     },
     "execution_count": 347,
     "metadata": {},
     "output_type": "execute_result"
    }
   ],
   "source": [
    "data.columns"
   ]
  },
  {
   "cell_type": "code",
   "execution_count": 348,
   "metadata": {
    "collapsed": false
   },
   "outputs": [
    {
     "data": {
      "text/html": [
       "<div>\n",
       "<table border=\"1\" class=\"dataframe\">\n",
       "  <thead>\n",
       "    <tr style=\"text-align: right;\">\n",
       "      <th></th>\n",
       "      <th>C/A</th>\n",
       "      <th>UNIT</th>\n",
       "      <th>SCP</th>\n",
       "      <th>STATION</th>\n",
       "      <th>LINENAME</th>\n",
       "      <th>DIVISION</th>\n",
       "      <th>DATE</th>\n",
       "      <th>TIME</th>\n",
       "      <th>DESC</th>\n",
       "      <th>ENTRIES</th>\n",
       "      <th>EXITS</th>\n",
       "    </tr>\n",
       "  </thead>\n",
       "  <tbody>\n",
       "    <tr>\n",
       "      <th>0</th>\n",
       "      <td>A002</td>\n",
       "      <td>R051</td>\n",
       "      <td>02-00-00</td>\n",
       "      <td>59 ST</td>\n",
       "      <td>NQR456</td>\n",
       "      <td>BMT</td>\n",
       "      <td>02/06/2016</td>\n",
       "      <td>03:00:00</td>\n",
       "      <td>REGULAR</td>\n",
       "      <td>5530860</td>\n",
       "      <td>1867106</td>\n",
       "    </tr>\n",
       "    <tr>\n",
       "      <th>1</th>\n",
       "      <td>A002</td>\n",
       "      <td>R051</td>\n",
       "      <td>02-00-00</td>\n",
       "      <td>59 ST</td>\n",
       "      <td>NQR456</td>\n",
       "      <td>BMT</td>\n",
       "      <td>02/06/2016</td>\n",
       "      <td>07:00:00</td>\n",
       "      <td>REGULAR</td>\n",
       "      <td>5530874</td>\n",
       "      <td>1867120</td>\n",
       "    </tr>\n",
       "    <tr>\n",
       "      <th>2</th>\n",
       "      <td>A002</td>\n",
       "      <td>R051</td>\n",
       "      <td>02-00-00</td>\n",
       "      <td>59 ST</td>\n",
       "      <td>NQR456</td>\n",
       "      <td>BMT</td>\n",
       "      <td>02/06/2016</td>\n",
       "      <td>11:00:00</td>\n",
       "      <td>REGULAR</td>\n",
       "      <td>5530973</td>\n",
       "      <td>1867216</td>\n",
       "    </tr>\n",
       "    <tr>\n",
       "      <th>3</th>\n",
       "      <td>A002</td>\n",
       "      <td>R051</td>\n",
       "      <td>02-00-00</td>\n",
       "      <td>59 ST</td>\n",
       "      <td>NQR456</td>\n",
       "      <td>BMT</td>\n",
       "      <td>02/06/2016</td>\n",
       "      <td>15:00:00</td>\n",
       "      <td>REGULAR</td>\n",
       "      <td>5531226</td>\n",
       "      <td>1867280</td>\n",
       "    </tr>\n",
       "    <tr>\n",
       "      <th>4</th>\n",
       "      <td>A002</td>\n",
       "      <td>R051</td>\n",
       "      <td>02-00-00</td>\n",
       "      <td>59 ST</td>\n",
       "      <td>NQR456</td>\n",
       "      <td>BMT</td>\n",
       "      <td>02/06/2016</td>\n",
       "      <td>19:00:00</td>\n",
       "      <td>REGULAR</td>\n",
       "      <td>5531634</td>\n",
       "      <td>1867368</td>\n",
       "    </tr>\n",
       "  </tbody>\n",
       "</table>\n",
       "</div>"
      ],
      "text/plain": [
       "    C/A  UNIT       SCP STATION LINENAME DIVISION        DATE      TIME  \\\n",
       "0  A002  R051  02-00-00   59 ST   NQR456      BMT  02/06/2016  03:00:00   \n",
       "1  A002  R051  02-00-00   59 ST   NQR456      BMT  02/06/2016  07:00:00   \n",
       "2  A002  R051  02-00-00   59 ST   NQR456      BMT  02/06/2016  11:00:00   \n",
       "3  A002  R051  02-00-00   59 ST   NQR456      BMT  02/06/2016  15:00:00   \n",
       "4  A002  R051  02-00-00   59 ST   NQR456      BMT  02/06/2016  19:00:00   \n",
       "\n",
       "      DESC  ENTRIES    EXITS  \n",
       "0  REGULAR  5530860  1867106  \n",
       "1  REGULAR  5530874  1867120  \n",
       "2  REGULAR  5530973  1867216  \n",
       "3  REGULAR  5531226  1867280  \n",
       "4  REGULAR  5531634  1867368  "
      ]
     },
     "execution_count": 348,
     "metadata": {},
     "output_type": "execute_result"
    }
   ],
   "source": [
    "# fix stupid EXITS column heading\n",
    "data.rename(columns = {'EXITS                                                               ':'EXITS','DATE':'DATE'}\n",
    "            ,inplace = True)\n",
    "data.head()"
   ]
  },
  {
   "cell_type": "code",
   "execution_count": 349,
   "metadata": {
    "collapsed": false
   },
   "outputs": [],
   "source": [
    "# create an identifier for each turnstile at a station\n",
    "data['TURNSTILE'] = data['UNIT'] + data['SCP']"
   ]
  },
  {
   "cell_type": "code",
   "execution_count": 350,
   "metadata": {
    "collapsed": false
   },
   "outputs": [
    {
     "data": {
      "text/plain": [
       "array(['METROPOLITAN AV'], dtype=object)"
      ]
     },
     "execution_count": 350,
     "metadata": {},
     "output_type": "execute_result"
    }
   ],
   "source": [
    "# look at stations on a given line to make sure we're spelling them right\n",
    "data['STATION'][data['LINENAME']=='GL'].unique()"
   ]
  },
  {
   "cell_type": "code",
   "execution_count": 351,
   "metadata": {
    "collapsed": false,
    "scrolled": true
   },
   "outputs": [
    {
     "data": {
      "text/html": [
       "<div>\n",
       "<table border=\"1\" class=\"dataframe\">\n",
       "  <thead>\n",
       "    <tr style=\"text-align: right;\">\n",
       "      <th></th>\n",
       "      <th>C/A</th>\n",
       "      <th>UNIT</th>\n",
       "      <th>SCP</th>\n",
       "      <th>STATION</th>\n",
       "      <th>LINENAME</th>\n",
       "      <th>DIVISION</th>\n",
       "      <th>DATE</th>\n",
       "      <th>TIME</th>\n",
       "      <th>DESC</th>\n",
       "      <th>ENTRIES</th>\n",
       "      <th>EXITS</th>\n",
       "      <th>TURNSTILE</th>\n",
       "    </tr>\n",
       "  </thead>\n",
       "  <tbody>\n",
       "    <tr>\n",
       "      <th>89754</th>\n",
       "      <td>N409</td>\n",
       "      <td>R268</td>\n",
       "      <td>00-00-00</td>\n",
       "      <td>METROPOLITAN AV</td>\n",
       "      <td>GL</td>\n",
       "      <td>IND</td>\n",
       "      <td>02/06/2016</td>\n",
       "      <td>00:00:00</td>\n",
       "      <td>REGULAR</td>\n",
       "      <td>4228752</td>\n",
       "      <td>9771582</td>\n",
       "      <td>R26800-00-00</td>\n",
       "    </tr>\n",
       "    <tr>\n",
       "      <th>89755</th>\n",
       "      <td>N409</td>\n",
       "      <td>R268</td>\n",
       "      <td>00-00-00</td>\n",
       "      <td>METROPOLITAN AV</td>\n",
       "      <td>GL</td>\n",
       "      <td>IND</td>\n",
       "      <td>02/06/2016</td>\n",
       "      <td>04:00:00</td>\n",
       "      <td>REGULAR</td>\n",
       "      <td>4228865</td>\n",
       "      <td>9771821</td>\n",
       "      <td>R26800-00-00</td>\n",
       "    </tr>\n",
       "    <tr>\n",
       "      <th>89756</th>\n",
       "      <td>N409</td>\n",
       "      <td>R268</td>\n",
       "      <td>00-00-00</td>\n",
       "      <td>METROPOLITAN AV</td>\n",
       "      <td>GL</td>\n",
       "      <td>IND</td>\n",
       "      <td>02/06/2016</td>\n",
       "      <td>08:00:00</td>\n",
       "      <td>REGULAR</td>\n",
       "      <td>4228882</td>\n",
       "      <td>9771871</td>\n",
       "      <td>R26800-00-00</td>\n",
       "    </tr>\n",
       "    <tr>\n",
       "      <th>89757</th>\n",
       "      <td>N409</td>\n",
       "      <td>R268</td>\n",
       "      <td>00-00-00</td>\n",
       "      <td>METROPOLITAN AV</td>\n",
       "      <td>GL</td>\n",
       "      <td>IND</td>\n",
       "      <td>02/06/2016</td>\n",
       "      <td>12:00:00</td>\n",
       "      <td>REGULAR</td>\n",
       "      <td>4228945</td>\n",
       "      <td>9772013</td>\n",
       "      <td>R26800-00-00</td>\n",
       "    </tr>\n",
       "    <tr>\n",
       "      <th>89758</th>\n",
       "      <td>N409</td>\n",
       "      <td>R268</td>\n",
       "      <td>00-00-00</td>\n",
       "      <td>METROPOLITAN AV</td>\n",
       "      <td>GL</td>\n",
       "      <td>IND</td>\n",
       "      <td>02/06/2016</td>\n",
       "      <td>16:00:00</td>\n",
       "      <td>REGULAR</td>\n",
       "      <td>4229121</td>\n",
       "      <td>9772446</td>\n",
       "      <td>R26800-00-00</td>\n",
       "    </tr>\n",
       "  </tbody>\n",
       "</table>\n",
       "</div>"
      ],
      "text/plain": [
       "        C/A  UNIT       SCP          STATION LINENAME DIVISION        DATE  \\\n",
       "89754  N409  R268  00-00-00  METROPOLITAN AV       GL      IND  02/06/2016   \n",
       "89755  N409  R268  00-00-00  METROPOLITAN AV       GL      IND  02/06/2016   \n",
       "89756  N409  R268  00-00-00  METROPOLITAN AV       GL      IND  02/06/2016   \n",
       "89757  N409  R268  00-00-00  METROPOLITAN AV       GL      IND  02/06/2016   \n",
       "89758  N409  R268  00-00-00  METROPOLITAN AV       GL      IND  02/06/2016   \n",
       "\n",
       "           TIME     DESC  ENTRIES    EXITS     TURNSTILE  \n",
       "89754  00:00:00  REGULAR  4228752  9771582  R26800-00-00  \n",
       "89755  04:00:00  REGULAR  4228865  9771821  R26800-00-00  \n",
       "89756  08:00:00  REGULAR  4228882  9771871  R26800-00-00  \n",
       "89757  12:00:00  REGULAR  4228945  9772013  R26800-00-00  \n",
       "89758  16:00:00  REGULAR  4229121  9772446  R26800-00-00  "
      ]
     },
     "execution_count": 351,
     "metadata": {},
     "output_type": "execute_result"
    }
   ],
   "source": [
    "# create a new dataframe with only target station data\n",
    "#station = data[data['STATION']=='LORIMER ST']\n",
    "# need to add additional line name criterion for metropolitan av since there are two stations with that name\n",
    "station = data[(data['STATION']=='METROPOLITAN AV') & (data['LINENAME']=='GL')] \n",
    "station.head()"
   ]
  },
  {
   "cell_type": "code",
   "execution_count": 352,
   "metadata": {
    "collapsed": false
   },
   "outputs": [
    {
     "name": "stdout",
     "output_type": "stream",
     "text": [
      "Number of turnstiles: 7\n",
      "['R26800-00-00' 'R26800-00-01' 'R26800-00-02' 'R26800-03-00' 'R26800-03-01'\n",
      " 'R26800-06-00' 'R26800-06-01']\n",
      "\n",
      "- - - - - - - - - - - - - - - - - - - - - - - - - - - - - - - - - - - - - - - - \n",
      "\n",
      "Days of the week: 6\n",
      "['02/06/2016' '02/07/2016' '02/08/2016' '02/09/2016' '02/10/2016'\n",
      " '02/11/2016']\n"
     ]
    }
   ],
   "source": [
    "# create lists of turnstiles and dates; these will become our column and index values\n",
    "turn_list = np.asarray(station.TURNSTILE.unique())\n",
    "date_list = np.asarray(station.DATE.unique())\n",
    "print 'Number of turnstiles:',len(turn_list)\n",
    "print turn_list\n",
    "print ''\n",
    "print '- - '*20\n",
    "print ''\n",
    "print 'Days of the week:',len(date_list)\n",
    "print date_list"
   ]
  },
  {
   "cell_type": "markdown",
   "metadata": {},
   "source": [
    "### This assumes that the number of people passing through a turnstile on a given day is the minimum (beginning of the day) minus the maximum (end of the day) value"
   ]
  },
  {
   "cell_type": "code",
   "execution_count": 353,
   "metadata": {
    "collapsed": false,
    "scrolled": true
   },
   "outputs": [],
   "source": [
    "my_list = []\n",
    "for d in date_list:\n",
    "    for i in turn_list:\n",
    "        try:\n",
    "            t_max = max(station.EXITS[(station['TURNSTILE']==i) & (station['DATE']==d)]) \n",
    "            t_min = min(station.EXITS[(station['TURNSTILE']==i) & (station['DATE']==d)])\n",
    "            out = t_max - t_min\n",
    "            my_list.append(out)\n",
    "        except ValueError: # adding exception handling for metropolitan ave issue\n",
    "            my_list.append(out)"
   ]
  },
  {
   "cell_type": "code",
   "execution_count": 354,
   "metadata": {
    "collapsed": false
   },
   "outputs": [],
   "source": [
    "# need to reshape the array since the my_list output is a Nx1 array, but we want 7xN\n",
    "# use len() to account for different numbers of days and turnstiles\n",
    "turn_array = np.asarray(my_list).reshape(len(date_list),len(turn_list))\n",
    "turn_list = list(station.TURNSTILE.unique()) # convert to list for easier dataframe creation"
   ]
  },
  {
   "cell_type": "code",
   "execution_count": 355,
   "metadata": {
    "collapsed": false
   },
   "outputs": [
    {
     "data": {
      "text/html": [
       "<div>\n",
       "<table border=\"1\" class=\"dataframe\">\n",
       "  <thead>\n",
       "    <tr style=\"text-align: right;\">\n",
       "      <th></th>\n",
       "      <th>02/06/2016</th>\n",
       "      <th>02/07/2016</th>\n",
       "      <th>02/08/2016</th>\n",
       "      <th>02/09/2016</th>\n",
       "      <th>02/10/2016</th>\n",
       "      <th>02/11/2016</th>\n",
       "    </tr>\n",
       "  </thead>\n",
       "  <tbody>\n",
       "    <tr>\n",
       "      <th>R26800-00-00</th>\n",
       "      <td>1455</td>\n",
       "      <td>1213</td>\n",
       "      <td>1234</td>\n",
       "      <td>1295</td>\n",
       "      <td>1328</td>\n",
       "      <td>320</td>\n",
       "    </tr>\n",
       "    <tr>\n",
       "      <th>R26800-00-01</th>\n",
       "      <td>787</td>\n",
       "      <td>696</td>\n",
       "      <td>508</td>\n",
       "      <td>490</td>\n",
       "      <td>552</td>\n",
       "      <td>119</td>\n",
       "    </tr>\n",
       "    <tr>\n",
       "      <th>R26800-00-02</th>\n",
       "      <td>391</td>\n",
       "      <td>351</td>\n",
       "      <td>202</td>\n",
       "      <td>227</td>\n",
       "      <td>207</td>\n",
       "      <td>62</td>\n",
       "    </tr>\n",
       "    <tr>\n",
       "      <th>R26800-03-00</th>\n",
       "      <td>365</td>\n",
       "      <td>299</td>\n",
       "      <td>264</td>\n",
       "      <td>264</td>\n",
       "      <td>286</td>\n",
       "      <td>92</td>\n",
       "    </tr>\n",
       "    <tr>\n",
       "      <th>R26800-03-01</th>\n",
       "      <td>906</td>\n",
       "      <td>754</td>\n",
       "      <td>646</td>\n",
       "      <td>719</td>\n",
       "      <td>737</td>\n",
       "      <td>205</td>\n",
       "    </tr>\n",
       "    <tr>\n",
       "      <th>R26800-06-00</th>\n",
       "      <td>249</td>\n",
       "      <td>218</td>\n",
       "      <td>148</td>\n",
       "      <td>183</td>\n",
       "      <td>156</td>\n",
       "      <td>65</td>\n",
       "    </tr>\n",
       "    <tr>\n",
       "      <th>R26800-06-01</th>\n",
       "      <td>734</td>\n",
       "      <td>683</td>\n",
       "      <td>450</td>\n",
       "      <td>591</td>\n",
       "      <td>598</td>\n",
       "      <td>309</td>\n",
       "    </tr>\n",
       "  </tbody>\n",
       "</table>\n",
       "</div>"
      ],
      "text/plain": [
       "              02/06/2016  02/07/2016  02/08/2016  02/09/2016  02/10/2016  \\\n",
       "R26800-00-00        1455        1213        1234        1295        1328   \n",
       "R26800-00-01         787         696         508         490         552   \n",
       "R26800-00-02         391         351         202         227         207   \n",
       "R26800-03-00         365         299         264         264         286   \n",
       "R26800-03-01         906         754         646         719         737   \n",
       "R26800-06-00         249         218         148         183         156   \n",
       "R26800-06-01         734         683         450         591         598   \n",
       "\n",
       "              02/11/2016  \n",
       "R26800-00-00         320  \n",
       "R26800-00-01         119  \n",
       "R26800-00-02          62  \n",
       "R26800-03-00          92  \n",
       "R26800-03-01         205  \n",
       "R26800-06-00          65  \n",
       "R26800-06-01         309  "
      ]
     },
     "execution_count": 355,
     "metadata": {},
     "output_type": "execute_result"
    }
   ],
   "source": [
    "final = pd.DataFrame(turn_array,index = date_list, columns = turn_list).T # transpose to make it more intelligible\n",
    "final"
   ]
  },
  {
   "cell_type": "markdown",
   "metadata": {},
   "source": [
    "## Don't forget to change file names below"
   ]
  },
  {
   "cell_type": "code",
   "execution_count": 356,
   "metadata": {
    "collapsed": false
   },
   "outputs": [],
   "source": [
    "final.to_csv('USI/station_metropolitan.csv') # changed file names manually on purpose"
   ]
  }
 ],
 "metadata": {
  "kernelspec": {
   "display_name": "Python 2",
   "language": "python",
   "name": "python2"
  },
  "language_info": {
   "codemirror_mode": {
    "name": "ipython",
    "version": 2
   },
   "file_extension": ".py",
   "mimetype": "text/x-python",
   "name": "python",
   "nbconvert_exporter": "python",
   "pygments_lexer": "ipython2",
   "version": "2.7.11"
  }
 },
 "nbformat": 4,
 "nbformat_minor": 0
}
