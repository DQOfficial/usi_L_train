{
 "cells": [
  {
   "cell_type": "code",
   "execution_count": 25,
   "metadata": {
    "collapsed": false
   },
   "outputs": [
    {
     "name": "stdout",
     "output_type": "stream",
     "text": [
      "Populating the interactive namespace from numpy and matplotlib\n"
     ]
    }
   ],
   "source": [
    "import numpy as np\n",
    "import pandas as pd\n",
    "import matplotlib.pyplot as plt\n",
    "import geopandas as gp\n",
    "from pandas import DataFrame\n",
    "import math\n",
    "import seaborn as sns\n",
    "\n",
    "%pylab inline"
   ]
  },
  {
   "cell_type": "markdown",
   "metadata": {},
   "source": [
    "## Calculate Estimated GDP in Williamsburg\n",
    "- Total households in three Williamsburg zip codes (11206, 11211, and 11237)\n",
    "- Average household expenture in Williamsburg\n",
    "- Spend by category (listed below) that could contribute to GDP (categorical breakouts only available for all of NYC)"
   ]
  },
  {
   "cell_type": "code",
   "execution_count": 26,
   "metadata": {
    "collapsed": true
   },
   "outputs": [],
   "source": [
    "# households and average household expenditures for williamsburg zipcodes\n",
    "# taken from http://www.point2homes.com/US/Neighborhood/NY/Brooklyn/Williamsburg-Demographics.html\n",
    "households = 68787\n",
    "total_expend = 40514"
   ]
  },
  {
   "cell_type": "code",
   "execution_count": 47,
   "metadata": {
    "collapsed": false
   },
   "outputs": [
    {
     "name": "stdout",
     "output_type": "stream",
     "text": [
      "Estimated Total Household Expenditures in Williamsburg is: $ 2786836518\n"
     ]
    }
   ],
   "source": [
    "# estimate regional GDP using household expenditures as a proxy\n",
    "gdp = households * total_expend\n",
    "print 'Estimated Total Household Expenditures in Williamsburg is: $',gdp"
   ]
  },
  {
   "cell_type": "code",
   "execution_count": 43,
   "metadata": {
    "collapsed": false
   },
   "outputs": [
    {
     "name": "stdout",
     "output_type": "stream",
     "text": [
      "                    Spend $    Spend %\n",
      "healthcare     1.560628e+08  17.125382\n",
      "entertainment  1.170471e+08  12.844037\n",
      "apparel        1.086866e+08  11.926606\n",
      "dining         3.678624e+08  40.366972\n",
      "other          1.616365e+08  17.737003\n"
     ]
    }
   ],
   "source": [
    "# health = .056\n",
    "# entertain = .042 \n",
    "# apparel = .039 \n",
    "# dining = .132 \n",
    "# other = .058\n",
    "\n",
    "category_names = ['healthcare', 'entertainment', 'apparel', 'dining','other']\n",
    "categories = [.056, .042, .039, .132, .058]\n",
    "my_list = []\n",
    "\n",
    "for i in categories:\n",
    "    cat_spend = i*gdp\n",
    "    my_list.append(cat_spend)\n",
    "    #print cat_spend\n",
    "\n",
    "spend = pd.DataFrame(my_list, index= category_names)\n",
    "spend.rename(columns = {0:'Spend $'}, inplace = True)\n",
    "spend['Spend %'] = (spend['Spend $']/np.sum(spend['Spend $']))*100\n",
    "print spend"
   ]
  },
  {
   "cell_type": "code",
   "execution_count": 48,
   "metadata": {
    "collapsed": false
   },
   "outputs": [
    {
     "name": "stdout",
     "output_type": "stream",
     "text": [
      "Estimated GDP in Williamsburg is: $ 911295541\n",
      "Estimated GDP is 32.7 % of total estimated expenditures.\n"
     ]
    }
   ],
   "source": [
    "# total relevant gdp is just the sum of all relevant categories\n",
    "gdp_est = sum(spend['Spend $'])\n",
    "print 'Estimated GDP in Williamsburg is: $',int(gdp_est)\n",
    "print 'Estimated GDP is', (gdp_est/gdp)*100,'% of total estimated expenditures.'"
   ]
  },
  {
   "cell_type": "markdown",
   "metadata": {},
   "source": [
    "## Calculate the amount of commercial space around the Bedford Ave. station\n",
    "- use PLUTO data\n",
    "- Total commercial space for same three Williamsburg zip codes (11206, 11211, 11237)\n",
    "- Commercial space within radius around the Bedford Ave. station, calculated using ArcGIS"
   ]
  },
  {
   "cell_type": "code",
   "execution_count": 62,
   "metadata": {
    "collapsed": false
   },
   "outputs": [
    {
     "name": "stdout",
     "output_type": "stream",
     "text": [
      "Commercial square footage within radius is: 2595120\n",
      "Total commercial square footage in Williamsburg is: 39715979\n",
      "The percentage of square footage within radius is: 6.53419622364 %\n"
     ]
    }
   ],
   "source": [
    "# read in pluto data (taken from Diego's 'Methodology1' notebook)\n",
    "pluto_df=pd.read_csv('pluto_lehd_blocks.csv')\n",
    "\n",
    "ct_area=np.sum(pluto_df.comare)\n",
    "# per Manushi's ArcGIS analysis, we have total Williamsburg commercial square footage\n",
    "total_comm = 39715979.0\n",
    "\n",
    "target_area = ct_area/total_comm\n",
    "\n",
    "print 'Commercial square footage within radius is:', ct_area\n",
    "print 'Total commercial square footage in Williamsburg is:', int(total_comm)\n",
    "print 'The percentage of square footage within radius is:', target_area*100,'%'"
   ]
  },
  {
   "cell_type": "code",
   "execution_count": 60,
   "metadata": {
    "collapsed": false
   },
   "outputs": [
    {
     "name": "stdout",
     "output_type": "stream",
     "text": [
      "The estimated size of our economy around the Bedford Station is: $ 59545838\n"
     ]
    }
   ],
   "source": [
    "# calculate area gdp\n",
    "local_gdp = target_area * gdp_est\n",
    "local_gdp\n",
    "print 'The estimated size of our economy around the Bedford Station is: $', int(local_gdp)"
   ]
  },
  {
   "cell_type": "markdown",
   "metadata": {},
   "source": [
    "## Calculate impact that shutdown will have on the in-radius economy"
   ]
  },
  {
   "cell_type": "code",
   "execution_count": 63,
   "metadata": {
    "collapsed": false
   },
   "outputs": [],
   "source": [
    "# create impact calculation function\n",
    "# this function returns the estimated monthly decrease in the economy of the impacted area\n",
    "# current form shows that the impact of the closure is zero in the same month that the closure finishes\n",
    "def impact_calc(duration, gdp):\n",
    "    dur_m = duration * 12 # duration in months if we want that\n",
    "    yr_range = np.arange(1,dur_m+1) # create range of years\n",
    "    g = 1/(dur_m*2.0)\n",
    "    loss = [-.5*log((g*i)+.5) for i in yr_range]\n",
    "    est_gdp = [(1-k)*local_gdp for k in loss]\n",
    "    impact = [local_gdp - j for j in est_gdp]\n",
    "    return impact"
   ]
  },
  {
   "cell_type": "code",
   "execution_count": 64,
   "metadata": {
    "collapsed": false
   },
   "outputs": [
    {
     "data": {
      "text/plain": [
       "[19821267.706130005,\n",
       " 19027276.134527467,\n",
       " 18253910.07079915,\n",
       " 17500125.013646886,\n",
       " 16764953.848583095,\n",
       " 16047499.387062453,\n",
       " 15346927.783621497,\n",
       " 14662462.709881283,\n",
       " 13993380.183331996,\n",
       " 13339003.964528359,\n",
       " 12698701.449331477,\n",
       " 12071879.993647583,\n",
       " 11457983.617144629,\n",
       " 10856490.039998606,\n",
       " 10266908.013091773,\n",
       " 9688774.9074664563,\n",
       " 9121654.5333984494,\n",
       " 8565135.1633326858,\n",
       " 8018827.7362330034,\n",
       " 7482364.2237297669,\n",
       " 6955396.1408798844,\n",
       " 6437593.1864464432,\n",
       " 5928641.9994115606,\n",
       " 5428245.0199993029,\n",
       " 4936119.4448424205,\n",
       " 4451996.2671065703,\n",
       " 3975619.3934148699,\n",
       " 3506744.830314897,\n",
       " 3045139.9338181838,\n",
       " 2590582.7162337005,\n",
       " 2142861.2051252872,\n",
       " 1701772.8497590795,\n",
       " 1267123.9708807766,\n",
       " 838729.250081487,\n",
       " 416411.2553826347,\n",
       " 0.0]"
      ]
     },
     "execution_count": 64,
     "metadata": {},
     "output_type": "execute_result"
    }
   ],
   "source": [
    "# run the function to estimate impact of 3-year shutdown\n",
    "impact_calc(3, local_gdp)"
   ]
  },
  {
   "cell_type": "code",
   "execution_count": null,
   "metadata": {
    "collapsed": true
   },
   "outputs": [],
   "source": []
  }
 ],
 "metadata": {
  "kernelspec": {
   "display_name": "Python 2",
   "language": "python",
   "name": "python2"
  },
  "language_info": {
   "codemirror_mode": {
    "name": "ipython",
    "version": 2
   },
   "file_extension": ".py",
   "mimetype": "text/x-python",
   "name": "python",
   "nbconvert_exporter": "python",
   "pygments_lexer": "ipython2",
   "version": "2.7.11"
  }
 },
 "nbformat": 4,
 "nbformat_minor": 0
}
