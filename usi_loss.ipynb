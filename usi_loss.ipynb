{
 "cells": [
  {
   "cell_type": "code",
   "execution_count": 632,
   "metadata": {
    "collapsed": false
   },
   "outputs": [
    {
     "name": "stdout",
     "output_type": "stream",
     "text": [
      "Populating the interactive namespace from numpy and matplotlib\n"
     ]
    }
   ],
   "source": [
    "import numpy as np\n",
    "import pandas as pd\n",
    "import matplotlib.pyplot as plt\n",
    "import geopandas as gp\n",
    "from pandas import DataFrame\n",
    "import math\n",
    "import seaborn as sns\n",
    "\n",
    "%pylab inline"
   ]
  },
  {
   "cell_type": "code",
   "execution_count": 638,
   "metadata": {
    "collapsed": true
   },
   "outputs": [],
   "source": [
    "# households and average household expenditures for williamsburg zipcodes\n",
    "# taken from http://www.point2homes.com/US/Neighborhood/NY/Brooklyn/Williamsburg-Demographics.html\n",
    "households = 68787\n",
    "total_expend = 40514"
   ]
  },
  {
   "cell_type": "code",
   "execution_count": 647,
   "metadata": {
    "collapsed": false
   },
   "outputs": [
    {
     "name": "stdout",
     "output_type": "stream",
     "text": [
      "Estimated GDP of Williamsburg is: 2786836518\n"
     ]
    }
   ],
   "source": [
    "# estimate regional GDP using household expenditures as a proxy\n",
    "gdp = households * total_expend\n",
    "print 'Estimated GDP of Williamsburg is:',gdp"
   ]
  },
  {
   "cell_type": "markdown",
   "metadata": {},
   "source": [
    "### couldn't get the cell below to work using a dictionary"
   ]
  },
  {
   "cell_type": "code",
   "execution_count": 707,
   "metadata": {
    "collapsed": false
   },
   "outputs": [],
   "source": [
    "# breakouts of relevant spend categories\n",
    "# these are at the total city level for NYC - brooklyn or zipcode level data is unavailable\n",
    "# taken from http://www.nycedc.com/economic-data/may-2014-economic-snapshot\n",
    "# categories = {health: .056, \n",
    "#             entertain : .042, \n",
    "#             apparel : .039, \n",
    "#             dining : .132, \n",
    "#             other : .058}\n",
    "\n",
    "# #categories = health, entertain, apparel, dining, other\n",
    "\n",
    "# my_dict = {health: 0, \n",
    "#         entertain : 0, \n",
    "#         apparel : 0, \n",
    "#         dining : 0, \n",
    "#         other : 0}\n",
    "\n",
    "# for i in categories.iteritems():\n",
    "#     cat_spend = i * gdp\n",
    "#     my_dict.update(i, cat_spend)\n",
    "#     print cat_spend"
   ]
  },
  {
   "cell_type": "code",
   "execution_count": 708,
   "metadata": {
    "collapsed": false
   },
   "outputs": [
    {
     "name": "stdout",
     "output_type": "stream",
     "text": [
      "156062845.008\n",
      "117047133.756\n",
      "108686624.202\n",
      "367862420.376\n",
      "161636518.044\n"
     ]
    }
   ],
   "source": [
    "# health = .056\n",
    "# entertain = .042 \n",
    "# apparel = .039 \n",
    "# dining = .132 \n",
    "# other = .058\n",
    "\n",
    "#categories = [health, entertain, apparel, dining, other]\n",
    "categories = [.056, .042, .039, .132, .058]\n",
    "my_list = []\n",
    "\n",
    "for i in categories:\n",
    "    cat_spend = i*gdp\n",
    "    my_list.append(cat_spend)\n",
    "    print cat_spend\n"
   ]
  },
  {
   "cell_type": "code",
   "execution_count": 714,
   "metadata": {
    "collapsed": false
   },
   "outputs": [
    {
     "name": "stdout",
     "output_type": "stream",
     "text": [
      "Estimated GDP is: $ 911295541\n"
     ]
    }
   ],
   "source": [
    "# total relevant gdp is just the sum of all relevant categories\n",
    "gdp_est = sum(my_list)\n",
    "print 'Estimated GDP is: $',int(gdp_est)"
   ]
  },
  {
   "cell_type": "markdown",
   "metadata": {},
   "source": [
    "## Need to determine the percentage of all brooklyn (or williamsburg) commercial properties within our radius for better 'sample_area' variable value"
   ]
  },
  {
   "cell_type": "code",
   "execution_count": 710,
   "metadata": {
    "collapsed": false
   },
   "outputs": [
    {
     "name": "stdout",
     "output_type": "stream",
     "text": [
      "The estimated size of our economy around the Bedford Station is: $ 45564777\n"
     ]
    }
   ],
   "source": [
    "# just made this up. sample_area should be the percentage of commerical properties in brooklyn that exist within our radius\n",
    "sample_area = .05 \n",
    "\n",
    "# calculate area gdp\n",
    "local_gdp = sample_area * gdp_est\n",
    "local_gdp\n",
    "print 'The estimated size of our economy around the Bedford Station is: $', int(local_gdp)"
   ]
  },
  {
   "cell_type": "code",
   "execution_count": 711,
   "metadata": {
    "collapsed": false
   },
   "outputs": [],
   "source": [
    "# create impact calculation function\n",
    "# this function returns the estimated monthly decrease in the economy of the impacted area\n",
    "# current form shows that the impact of the closure is zero in the same month that the closure finishes\n",
    "def impact_calc(duration, gdp):\n",
    "    dur_m = duration * 12 # duration in months if we want that\n",
    "    yr_range = np.arange(1,dur_m+1) # create range of years\n",
    "    g = 1/(dur_m*2.0)\n",
    "    loss = [-.5*log((g*i)+.5) for i in yr_range]\n",
    "    est_gdp = [(1-k)*local_gdp for k in loss]\n",
    "    impact = [local_gdp - j for j in est_gdp]\n",
    "    return impact"
   ]
  },
  {
   "cell_type": "code",
   "execution_count": 712,
   "metadata": {
    "collapsed": false
   },
   "outputs": [
    {
     "data": {
      "text/plain": [
       "[15167334.303809408,\n",
       " 14559767.937245563,\n",
       " 13967984.313629959,\n",
       " 13391184.175286204,\n",
       " 12828627.481316768,\n",
       " 12279627.69850884,\n",
       " 11743546.764096223,\n",
       " 11219790.627676718,\n",
       " 10707805.294171944,\n",
       " 10207073.301737972,\n",
       " 9717110.5784880593,\n",
       " 9237463.6301640719,\n",
       " 8767707.0178038031,\n",
       " 8307441.0902442634,\n",
       " 7856289.9411758333,\n",
       " 7413899.5645801499,\n",
       " 6979936.1858740225,\n",
       " 6554084.7490498051,\n",
       " 6136047.5426347777,\n",
       " 5725542.9494590387,\n",
       " 5322304.3070814908,\n",
       " 4926078.8673250228,\n",
       " 4536626.8447537646,\n",
       " 4153720.5451221317,\n",
       " 3777143.5658631101,\n",
       " 3406690.0615864173,\n",
       " 3042164.0683447719,\n",
       " 2683378.8811142668,\n",
       " 2330156.4795382172,\n",
       " 1982326.9975126535,\n",
       " 1639728.2326572686,\n",
       " 1302205.1921260282,\n",
       " 969609.67157390714,\n",
       " 641799.86441709846,\n",
       " 318639.99880815297,\n",
       " 0.0]"
      ]
     },
     "execution_count": 712,
     "metadata": {},
     "output_type": "execute_result"
    }
   ],
   "source": [
    "# run the function to estimate impact of 3-year shutdown\n",
    "impact_calc(3, local_gdp)"
   ]
  },
  {
   "cell_type": "code",
   "execution_count": 713,
   "metadata": {
    "collapsed": false
   },
   "outputs": [
    {
     "data": {
      "text/plain": [
       "[<matplotlib.lines.Line2D at 0x424338090>]"
      ]
     },
     "execution_count": 713,
     "metadata": {},
     "output_type": "execute_result"
    },
    {
     "data": {
      "image/png": "[encoded data removed]",
      "text/plain": [
       "<matplotlib.figure.Figure at 0x4241b4810>"
      ]
     },
     "metadata": {},
     "output_type": "display_data"
    }
   ],
   "source": [
    "plt.plot(blob)"
   ]
  },
  {
   "cell_type": "code",
   "execution_count": null,
   "metadata": {
    "collapsed": true
   },
   "outputs": [],
   "source": []
  }
 ],
 "metadata": {
  "kernelspec": {
   "display_name": "Python 2",
   "language": "python",
   "name": "python2"
  },
  "language_info": {
   "codemirror_mode": {
    "name": "ipython",
    "version": 2
   },
   "file_extension": ".py",
   "mimetype": "text/x-python",
   "name": "python",
   "nbconvert_exporter": "python",
   "pygments_lexer": "ipython2",
   "version": "2.7.11"
  }
 },
 "nbformat": 4,
 "nbformat_minor": 0
}
