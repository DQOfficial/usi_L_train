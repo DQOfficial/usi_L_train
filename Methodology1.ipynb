{
 "cells": [
  {
   "cell_type": "code",
   "execution_count": 2,
   "metadata": {
    "collapsed": false
   },
   "outputs": [],
   "source": [
    "import numpy as np\n",
    "import pandas as pd\n",
    "#import shapefile\n",
    "import geopandas as gpd\n",
    "import matplotlib\n",
    "%matplotlib inline\n",
    "import json"
   ]
  },
  {
   "cell_type": "code",
   "execution_count": 3,
   "metadata": {
    "collapsed": true
   },
   "outputs": [],
   "source": [
    "#geo_data= gpd.GeoDataFrame.from_file(\"../Maps/BlocksQuarterMile.shp\")"
   ]
  },
  {
   "cell_type": "code",
   "execution_count": 4,
   "metadata": {
    "collapsed": false
   },
   "outputs": [],
   "source": [
    "#geo_data.plot()"
   ]
  },
  {
   "cell_type": "code",
   "execution_count": 5,
   "metadata": {
    "collapsed": true
   },
   "outputs": [],
   "source": [
    "#LEHD=pd.read_csv('..\\LEHD_data\\LEHD_analysis.csv')\n",
    "#LEHD_pluto=pd.read_csv('lehd_zip_final.csv')\n",
    "#LEHD.head()\n",
    "#LEHD_pluto.head()\n",
    "#result = pd.merge(LEHD, LEHD_pluto, on=['C1', 'C2', 'C3', 'C4'])\n",
    "#result.head()"
   ]
  },
  {
   "cell_type": "code",
   "execution_count": 6,
   "metadata": {
    "collapsed": false
   },
   "outputs": [],
   "source": [
    "pluto_df=pd.read_csv('pluto_lehd_blocks.csv')"
   ]
  },
  {
   "cell_type": "code",
   "execution_count": 7,
   "metadata": {
    "collapsed": false
   },
   "outputs": [
    {
     "data": {
      "text/html": [
       "<div>\n",
       "<table border=\"1\" class=\"dataframe\">\n",
       "  <thead>\n",
       "    <tr style=\"text-align: right;\">\n",
       "      <th></th>\n",
       "      <th>FID</th>\n",
       "      <th>bldgar</th>\n",
       "      <th>comare</th>\n",
       "      <th>resare</th>\n",
       "      <th>retail</th>\n",
       "      <th>office</th>\n",
       "      <th>zipco</th>\n",
       "      <th>geocode</th>\n",
       "      <th>C1</th>\n",
       "      <th>C2</th>\n",
       "      <th>C3</th>\n",
       "      <th>C4</th>\n",
       "    </tr>\n",
       "  </thead>\n",
       "  <tbody>\n",
       "    <tr>\n",
       "      <th>0</th>\n",
       "      <td>0</td>\n",
       "      <td>456906</td>\n",
       "      <td>54500</td>\n",
       "      <td>402406</td>\n",
       "      <td>8000</td>\n",
       "      <td>28325</td>\n",
       "      <td>11211</td>\n",
       "      <td>360470517001001</td>\n",
       "      <td>40</td>\n",
       "      <td>6</td>\n",
       "      <td>0</td>\n",
       "      <td>0</td>\n",
       "    </tr>\n",
       "    <tr>\n",
       "      <th>1</th>\n",
       "      <td>1</td>\n",
       "      <td>180591</td>\n",
       "      <td>65390</td>\n",
       "      <td>115201</td>\n",
       "      <td>24730</td>\n",
       "      <td>20000</td>\n",
       "      <td>11211</td>\n",
       "      <td>360470517001002</td>\n",
       "      <td>82</td>\n",
       "      <td>133</td>\n",
       "      <td>1</td>\n",
       "      <td>0</td>\n",
       "    </tr>\n",
       "    <tr>\n",
       "      <th>2</th>\n",
       "      <td>2</td>\n",
       "      <td>227160</td>\n",
       "      <td>92068</td>\n",
       "      <td>135092</td>\n",
       "      <td>46914</td>\n",
       "      <td>32111</td>\n",
       "      <td>11211</td>\n",
       "      <td>360470517001003</td>\n",
       "      <td>227</td>\n",
       "      <td>77</td>\n",
       "      <td>0</td>\n",
       "      <td>5</td>\n",
       "    </tr>\n",
       "    <tr>\n",
       "      <th>3</th>\n",
       "      <td>3</td>\n",
       "      <td>100641</td>\n",
       "      <td>15010</td>\n",
       "      <td>85631</td>\n",
       "      <td>7440</td>\n",
       "      <td>6270</td>\n",
       "      <td>11211</td>\n",
       "      <td>360470517001004</td>\n",
       "      <td>20</td>\n",
       "      <td>159</td>\n",
       "      <td>0</td>\n",
       "      <td>0</td>\n",
       "    </tr>\n",
       "    <tr>\n",
       "      <th>4</th>\n",
       "      <td>4</td>\n",
       "      <td>156414</td>\n",
       "      <td>54939</td>\n",
       "      <td>101475</td>\n",
       "      <td>29310</td>\n",
       "      <td>0</td>\n",
       "      <td>11249</td>\n",
       "      <td>360470517002001</td>\n",
       "      <td>55</td>\n",
       "      <td>114</td>\n",
       "      <td>0</td>\n",
       "      <td>0</td>\n",
       "    </tr>\n",
       "  </tbody>\n",
       "</table>\n",
       "</div>"
      ],
      "text/plain": [
       "   FID  bldgar  comare  resare  retail  office  zipco          geocode   C1  \\\n",
       "0    0  456906   54500  402406    8000   28325  11211  360470517001001   40   \n",
       "1    1  180591   65390  115201   24730   20000  11211  360470517001002   82   \n",
       "2    2  227160   92068  135092   46914   32111  11211  360470517001003  227   \n",
       "3    3  100641   15010   85631    7440    6270  11211  360470517001004   20   \n",
       "4    4  156414   54939  101475   29310       0  11249  360470517002001   55   \n",
       "\n",
       "    C2  C3  C4  \n",
       "0    6   0   0  \n",
       "1  133   1   0  \n",
       "2   77   0   5  \n",
       "3  159   0   0  \n",
       "4  114   0   0  "
      ]
     },
     "execution_count": 7,
     "metadata": {},
     "output_type": "execute_result"
    }
   ],
   "source": [
    "pluto_df.head()"
   ]
  },
  {
   "cell_type": "markdown",
   "metadata": {},
   "source": [
    "# STEP 1: Coefficient calibration!"
   ]
  },
  {
   "cell_type": "markdown",
   "metadata": {},
   "source": [
    "According to https://www.jtlu.org/index.php/jtlu/article/viewFile/185/175 the correlation between the density of commercial areas and the density of subway stations in NYC is equal to 0.55, while the correlation between the number of residencial areas and subway stations is equal to 0.64. We are going to use this coefficient for our estimations. "
   ]
  },
  {
   "cell_type": "code",
   "execution_count": 8,
   "metadata": {
    "collapsed": false
   },
   "outputs": [
    {
     "name": "stdout",
     "output_type": "stream",
     "text": [
      "('com_coef', 0.30586710847785525)\n",
      "('res_coef', 0.6919942780155128)\n",
      "('coef_3', 0.42572457981754663)\n"
     ]
    }
   ],
   "source": [
    "T_area=np.sum(pluto_df.bldgar)\n",
    "Ct_area=np.sum(pluto_df.comare)\n",
    "Rt_area=np.sum(pluto_df.resare)\n",
    "Ret_area=np.sum(pluto_df.retail)\n",
    "coef_com=float(Ct_area)/float(T_area)\n",
    "coef_res=float(Rt_area)/float(T_area)\n",
    "coef_3=(float(Ct_area)+float(Ret_area))/float(T_area)\n",
    "print('com_coef',coef_com)\n",
    "print('res_coef',coef_res)\n",
    "print('coef_3',coef_3)"
   ]
  },
  {
   "cell_type": "code",
   "execution_count": 17,
   "metadata": {
    "collapsed": false
   },
   "outputs": [],
   "source": [
    "total_area = 40000000.0"
   ]
  },
  {
   "cell_type": "code",
   "execution_count": 18,
   "metadata": {
    "collapsed": false
   },
   "outputs": [
    {
     "data": {
      "text/plain": [
       "0.064878000000000005"
      ]
     },
     "execution_count": 18,
     "metadata": {},
     "output_type": "execute_result"
    }
   ],
   "source": [
    "local_gdp = Ct_area / total_area\n",
    "local_gdp"
   ]
  },
  {
   "cell_type": "markdown",
   "metadata": {},
   "source": [
    "But! if we recalculate this coefficients for our area of study (quarter mile buffer around bedford av.) we got: 0.31 for commercial density, 0.69 for residential density, and 0.42 if we add retail area to commercial area. \n",
    "\n",
    "Even if the area is too small, this results might not be that crazy, since the paper's coefficients are calculated based on data for the entire city, Manhattan and its high density of commercial areas might skewe a little bit the coefficient. That also might explain the relatively higher coefficient for residencial areas (experimental=0.69 vs theoretical=0.64) since Williamsburgh is in general more residential than other parts of the city.\n",
    "\n",
    "One thing to have in mind is that the area is too small (there is only one metro station!) so, trying with different areas is suggested for adjusting the coefficient. "
   ]
  },
  {
   "cell_type": "markdown",
   "metadata": {},
   "source": [
    "# STEP 2: generalization of the original equation from density of MTA stations to number of passengers"
   ]
  },
  {
   "cell_type": "markdown",
   "metadata": {},
   "source": [
    "After getting the relationship between number of stations and density of commercial area, we are going to calculate a new relationship, based on ridership "
   ]
  },
  {
   "cell_type": "code",
   "execution_count": 9,
   "metadata": {
    "collapsed": false
   },
   "outputs": [
    {
     "data": {
      "text/html": [
       "<div>\n",
       "<table border=\"1\" class=\"dataframe\">\n",
       "  <thead>\n",
       "    <tr style=\"text-align: right;\">\n",
       "      <th></th>\n",
       "      <th>stops</th>\n",
       "      <th>users</th>\n",
       "    </tr>\n",
       "  </thead>\n",
       "  <tbody>\n",
       "    <tr>\n",
       "      <th>0</th>\n",
       "      <td>Bedford</td>\n",
       "      <td>27102.783562</td>\n",
       "    </tr>\n",
       "    <tr>\n",
       "      <th>1</th>\n",
       "      <td>Lorimer_Metropolitan</td>\n",
       "      <td>13946.147945</td>\n",
       "    </tr>\n",
       "    <tr>\n",
       "      <th>2</th>\n",
       "      <td>Nassau</td>\n",
       "      <td>7562.246575</td>\n",
       "    </tr>\n",
       "    <tr>\n",
       "      <th>3</th>\n",
       "      <td>Graham</td>\n",
       "      <td>9321.956164</td>\n",
       "    </tr>\n",
       "  </tbody>\n",
       "</table>\n",
       "</div>"
      ],
      "text/plain": [
       "                  stops         users\n",
       "0               Bedford  27102.783562\n",
       "1  Lorimer_Metropolitan  13946.147945\n",
       "2                Nassau   7562.246575\n",
       "3                Graham   9321.956164"
      ]
     },
     "execution_count": 9,
     "metadata": {},
     "output_type": "execute_result"
    }
   ],
   "source": [
    "#first try:\n",
    "#Stops considered: bedford, Lorimer, metropolitan, Nassau, Graham av\n",
    "stops=['Bedford','Lorimer_Metropolitan', 'Nassau','Graham']\n",
    "#annual riderships: \n",
    "riderships=[9892516, 5090344, 2760220,3402514]\n",
    "daily_riders= pd.DataFrame({'stops':stops, 'users':[i/365.0 for i in riderships]})\n",
    "daily_riders"
   ]
  },
  {
   "cell_type": "code",
   "execution_count": 10,
   "metadata": {
    "collapsed": false
   },
   "outputs": [
    {
     "data": {
      "text/plain": [
       "7649.8422922944574"
      ]
     },
     "execution_count": 10,
     "metadata": {},
     "output_type": "execute_result"
    }
   ],
   "source": [
    "np.std(daily_riders.users) #STD is too high! so I can't just take the mean of riders and use it in the study, just for \n",
    "                            #the moment, I will work with the ridership of bedfor avenue 27103"
   ]
  },
  {
   "cell_type": "markdown",
   "metadata": {},
   "source": [
    "Then, our relationship between density of commercial areas and number of riders for station is going to be: \n",
    "\n",
    "$$dC= \\alpha (R / 10,000)$$\n",
    "\n",
    "where $dC$ is the density of commercial areas, $\\alpha$ is the coefficient from the previous step and $R$ represents the ridership in the area of study.\n",
    "\n",
    "(Note that this relationship can be generalized, taking $R$ as 'density of riders' in a given area. Since our area of study is defined as a 'unit' there is no distintion between number of riders and rider density) "
   ]
  },
  {
   "cell_type": "markdown",
   "metadata": {},
   "source": [
    "Since the relationship between Ridiership and commerce density depends a lot on local properties, we are going to calculate a coefficient $\\alpha$ for each census block, instead of using a general coefficient."
   ]
  },
  {
   "cell_type": "code",
   "execution_count": 11,
   "metadata": {
    "collapsed": true
   },
   "outputs": [],
   "source": [
    "R=daily_riders[(daily_riders['stops']=='Bedford')].users.values[0]\n",
    "dC=(pluto_df['comare']+pluto_df['retail'])/pluto_df['bldgar']\n",
    "pluto_df['alpha_coef']=(dC/R)*10000"
   ]
  },
  {
   "cell_type": "code",
   "execution_count": 12,
   "metadata": {
    "collapsed": true
   },
   "outputs": [],
   "source": [
    "#MAP showing alpha_coef on each census block is neccesary."
   ]
  },
  {
   "cell_type": "markdown",
   "metadata": {},
   "source": [
    "# STEP 3: estimating impact"
   ]
  },
  {
   "cell_type": "code",
   "execution_count": null,
   "metadata": {
    "collapsed": false
   },
   "outputs": [],
   "source": [
    "pluto_df"
   ]
  },
  {
   "cell_type": "code",
   "execution_count": null,
   "metadata": {
    "collapsed": true
   },
   "outputs": [],
   "source": []
  }
 ],
 "metadata": {
  "kernelspec": {
   "display_name": "Python 2",
   "language": "python",
   "name": "python2"
  },
  "language_info": {
   "codemirror_mode": {
    "name": "ipython",
    "version": 2
   },
   "file_extension": ".py",
   "mimetype": "text/x-python",
   "name": "python",
   "nbconvert_exporter": "python",
   "pygments_lexer": "ipython2",
   "version": "2.7.11"
  }
 },
 "nbformat": 4,
 "nbformat_minor": 0
}
